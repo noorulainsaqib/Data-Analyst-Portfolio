{
 "cells": [
  {
   "cell_type": "markdown",
   "metadata": {},
   "source": []
  },
  {
   "cell_type": "code",
   "execution_count": 281,
   "metadata": {},
   "outputs": [],
   "source": [
    "import numpy as np\n",
    "import statsmodels.api as sm\n",
    "import statsmodels.formula.api as smf\n",
    "from statsmodels.stats.outliers_influence import variance_inflation_factor\n",
    "from statsmodels.stats.anova import anova_lm\n",
    "from sklearn.decomposition import PCA\n",
    "from sklearn.preprocessing import StandardScaler"
   ]
  },
  {
   "cell_type": "markdown",
   "metadata": {},
   "source": [
    "# Table 1.2"
   ]
  },
  {
   "cell_type": "code",
   "execution_count": 154,
   "metadata": {},
   "outputs": [
    {
     "data": {
      "text/plain": [
       "Index(['obs', 'wage', 'female', 'nonwhite', 'union', 'education', 'exper',\n",
       "       'age', 'wind', 'femalenonw', 'lnwage'],\n",
       "      dtype='object')"
      ]
     },
     "execution_count": 154,
     "metadata": {},
     "output_type": "execute_result"
    }
   ],
   "source": [
    "import pandas as pd\n",
    "table1_1 = pd.read_excel(r\"C:\\Users\\lenovo\\Downloads\\eco\\Excel_files\\Table1_1.xls\")\n",
    "table1_1.columns"
   ]
  },
  {
   "cell_type": "code",
   "execution_count": 155,
   "metadata": {},
   "outputs": [],
   "source": [
    "y_t1_2 = table1_1['wage']\n",
    "x_t1_2 = table1_1[['female', 'nonwhite', 'union', 'education', 'exper']]"
   ]
  },
  {
   "cell_type": "code",
   "execution_count": 156,
   "metadata": {},
   "outputs": [
    {
     "name": "stdout",
     "output_type": "stream",
     "text": [
      "                            OLS Regression Results                            \n",
      "==============================================================================\n",
      "Dep. Variable:                   wage   R-squared:                       0.323\n",
      "Model:                            OLS   Adj. R-squared:                  0.321\n",
      "Method:                 Least Squares   F-statistic:                     122.6\n",
      "Date:                Sun, 24 Nov 2024   Prob (F-statistic):          3.45e-106\n",
      "Time:                        17:12:42   Log-Likelihood:                -4240.4\n",
      "No. Observations:                1289   AIC:                             8493.\n",
      "Df Residuals:                    1283   BIC:                             8524.\n",
      "Df Model:                           5                                         \n",
      "Covariance Type:            nonrobust                                         \n",
      "==============================================================================\n",
      "                 coef    std err          t      P>|t|      [0.025      0.975]\n",
      "------------------------------------------------------------------------------\n",
      "const         -7.1833      1.016     -7.072      0.000      -9.176      -5.191\n",
      "female        -3.0749      0.365     -8.433      0.000      -3.790      -2.360\n",
      "nonwhite      -1.5653      0.509     -3.074      0.002      -2.564      -0.566\n",
      "union          1.0960      0.506      2.166      0.031       0.103       2.089\n",
      "education      1.3703      0.066     20.792      0.000       1.241       1.500\n",
      "exper          0.1666      0.016     10.382      0.000       0.135       0.198\n",
      "==============================================================================\n",
      "Omnibus:                      525.319   Durbin-Watson:                   1.898\n",
      "Prob(Omnibus):                  0.000   Jarque-Bera (JB):             3519.893\n",
      "Skew:                           1.747   Prob(JB):                         0.00\n",
      "Kurtosis:                      10.303   Cond. No.                         141.\n",
      "==============================================================================\n",
      "\n",
      "Notes:\n",
      "[1] Standard Errors assume that the covariance matrix of the errors is correctly specified.\n"
     ]
    }
   ],
   "source": [
    "x_t1_2 = sm.add_constant(x_t1_2)\n",
    "model_t1_2 = sm.OLS(y_t1_2, x_t1_2).fit()\n",
    "print(model_t1_2.summary())"
   ]
  },
  {
   "cell_type": "markdown",
   "metadata": {},
   "source": [
    "## Interpretation:\n",
    "This table shows how various factors like gender, race, union membership, education, and experience affect wages. The model explains 32.3% of the variability in wages (R squared = 0.323). Significant findings include:\n",
    "\n",
    "#### Gender:\n",
    "#### Female:\n",
    "workers earn significantly less (-3.07).\n",
    "#### Race:\n",
    "Non-white individuals also face a wage penalty (-1.57).\n",
    "#### Union Membership:\n",
    "Being in a union has a positive effect (+1.10).\n",
    "#### Education and Experience:\n",
    "Both have strong positive impacts."
   ]
  },
  {
   "cell_type": "markdown",
   "metadata": {},
   "source": [
    "# Table 2.2\n"
   ]
  },
  {
   "cell_type": "code",
   "execution_count": 128,
   "metadata": {},
   "outputs": [],
   "source": [
    "table2_1 = pd.read_excel(r\"C:\\Users\\lenovo\\Downloads\\eco\\Excel_files\\Table2_1.xls\")"
   ]
  },
  {
   "cell_type": "code",
   "execution_count": 129,
   "metadata": {},
   "outputs": [
    {
     "data": {
      "text/html": [
       "<div>\n",
       "<style scoped>\n",
       "    .dataframe tbody tr th:only-of-type {\n",
       "        vertical-align: middle;\n",
       "    }\n",
       "\n",
       "    .dataframe tbody tr th {\n",
       "        vertical-align: top;\n",
       "    }\n",
       "\n",
       "    .dataframe thead th {\n",
       "        text-align: right;\n",
       "    }\n",
       "</style>\n",
       "<table border=\"1\" class=\"dataframe\">\n",
       "  <thead>\n",
       "    <tr style=\"text-align: right;\">\n",
       "      <th></th>\n",
       "      <th>obs</th>\n",
       "      <th>output</th>\n",
       "      <th>labor</th>\n",
       "      <th>capital</th>\n",
       "      <th>lnoutput</th>\n",
       "      <th>lnlabor</th>\n",
       "      <th>lncapital</th>\n",
       "      <th>lnoutlab</th>\n",
       "      <th>lncaplab</th>\n",
       "      <th>outputstar</th>\n",
       "      <th>capitalstar</th>\n",
       "      <th>laborstar</th>\n",
       "    </tr>\n",
       "  </thead>\n",
       "  <tbody>\n",
       "    <tr>\n",
       "      <th>0</th>\n",
       "      <td>1</td>\n",
       "      <td>38372840</td>\n",
       "      <td>424471</td>\n",
       "      <td>2689076</td>\n",
       "      <td>17.46286</td>\n",
       "      <td>12.958600</td>\n",
       "      <td>14.80471</td>\n",
       "      <td>4.504261</td>\n",
       "      <td>1.846109</td>\n",
       "      <td>-0.107987</td>\n",
       "      <td>0.063689</td>\n",
       "      <td>0.134389</td>\n",
       "    </tr>\n",
       "    <tr>\n",
       "      <th>1</th>\n",
       "      <td>2</td>\n",
       "      <td>1805427</td>\n",
       "      <td>19895</td>\n",
       "      <td>57997</td>\n",
       "      <td>14.40631</td>\n",
       "      <td>9.898224</td>\n",
       "      <td>10.96815</td>\n",
       "      <td>4.508084</td>\n",
       "      <td>1.069923</td>\n",
       "      <td>-0.923066</td>\n",
       "      <td>-0.905514</td>\n",
       "      <td>-0.941053</td>\n",
       "    </tr>\n",
       "    <tr>\n",
       "      <th>2</th>\n",
       "      <td>3</td>\n",
       "      <td>23736129</td>\n",
       "      <td>206893</td>\n",
       "      <td>2308272</td>\n",
       "      <td>16.98251</td>\n",
       "      <td>12.239960</td>\n",
       "      <td>14.65201</td>\n",
       "      <td>4.742552</td>\n",
       "      <td>2.412053</td>\n",
       "      <td>-0.434236</td>\n",
       "      <td>-0.076587</td>\n",
       "      <td>-0.443976</td>\n",
       "    </tr>\n",
       "    <tr>\n",
       "      <th>3</th>\n",
       "      <td>4</td>\n",
       "      <td>26981983</td>\n",
       "      <td>304055</td>\n",
       "      <td>1376235</td>\n",
       "      <td>17.11068</td>\n",
       "      <td>12.624960</td>\n",
       "      <td>14.13486</td>\n",
       "      <td>4.485716</td>\n",
       "      <td>1.509898</td>\n",
       "      <td>-0.361887</td>\n",
       "      <td>-0.419918</td>\n",
       "      <td>-0.185700</td>\n",
       "    </tr>\n",
       "    <tr>\n",
       "      <th>4</th>\n",
       "      <td>5</td>\n",
       "      <td>217546032</td>\n",
       "      <td>1809756</td>\n",
       "      <td>13554116</td>\n",
       "      <td>19.19792</td>\n",
       "      <td>14.408700</td>\n",
       "      <td>16.42220</td>\n",
       "      <td>4.789218</td>\n",
       "      <td>2.013498</td>\n",
       "      <td>3.885739</td>\n",
       "      <td>4.066012</td>\n",
       "      <td>3.816748</td>\n",
       "    </tr>\n",
       "  </tbody>\n",
       "</table>\n",
       "</div>"
      ],
      "text/plain": [
       "   obs     output    labor   capital  lnoutput    lnlabor  lncapital  \\\n",
       "0    1   38372840   424471   2689076  17.46286  12.958600   14.80471   \n",
       "1    2    1805427    19895     57997  14.40631   9.898224   10.96815   \n",
       "2    3   23736129   206893   2308272  16.98251  12.239960   14.65201   \n",
       "3    4   26981983   304055   1376235  17.11068  12.624960   14.13486   \n",
       "4    5  217546032  1809756  13554116  19.19792  14.408700   16.42220   \n",
       "\n",
       "   lnoutlab  lncaplab  outputstar  capitalstar  laborstar  \n",
       "0  4.504261  1.846109   -0.107987     0.063689   0.134389  \n",
       "1  4.508084  1.069923   -0.923066    -0.905514  -0.941053  \n",
       "2  4.742552  2.412053   -0.434236    -0.076587  -0.443976  \n",
       "3  4.485716  1.509898   -0.361887    -0.419918  -0.185700  \n",
       "4  4.789218  2.013498    3.885739     4.066012   3.816748  "
      ]
     },
     "execution_count": 129,
     "metadata": {},
     "output_type": "execute_result"
    }
   ],
   "source": [
    "table2_1.head()"
   ]
  },
  {
   "cell_type": "code",
   "execution_count": 130,
   "metadata": {},
   "outputs": [
    {
     "data": {
      "text/plain": [
       "Index(['obs', 'output', 'labor', 'capital', 'lnoutput', 'lnlabor', 'lncapital',\n",
       "       'lnoutlab', 'lncaplab', 'outputstar', 'capitalstar', 'laborstar'],\n",
       "      dtype='object')"
      ]
     },
     "execution_count": 130,
     "metadata": {},
     "output_type": "execute_result"
    }
   ],
   "source": [
    "table2_1.columns"
   ]
  },
  {
   "cell_type": "code",
   "execution_count": 132,
   "metadata": {},
   "outputs": [],
   "source": [
    "y_t2_2 = table2_1['lnoutput'] \n",
    "x_t2_2 = table2_1[['lnlabor','lncapital']]"
   ]
  },
  {
   "cell_type": "code",
   "execution_count": 133,
   "metadata": {},
   "outputs": [
    {
     "name": "stdout",
     "output_type": "stream",
     "text": [
      "                            OLS Regression Results                            \n",
      "==============================================================================\n",
      "Dep. Variable:               lnoutput   R-squared:                       0.964\n",
      "Model:                            OLS   Adj. R-squared:                  0.963\n",
      "Method:                 Least Squares   F-statistic:                     645.9\n",
      "Date:                Sun, 24 Nov 2024   Prob (F-statistic):           2.00e-35\n",
      "Time:                        16:54:24   Log-Likelihood:                -3.4267\n",
      "No. Observations:                  51   AIC:                             12.85\n",
      "Df Residuals:                      48   BIC:                             18.65\n",
      "Df Model:                           2                                         \n",
      "Covariance Type:            nonrobust                                         \n",
      "==============================================================================\n",
      "                 coef    std err          t      P>|t|      [0.025      0.975]\n",
      "------------------------------------------------------------------------------\n",
      "const          3.8876      0.396      9.812      0.000       3.091       4.684\n",
      "lnlabor        0.4683      0.099      4.734      0.000       0.269       0.667\n",
      "lncapital      0.5213      0.097      5.380      0.000       0.326       0.716\n",
      "==============================================================================\n",
      "Omnibus:                       45.645   Durbin-Watson:                   1.946\n",
      "Prob(Omnibus):                  0.000   Jarque-Bera (JB):              196.022\n",
      "Skew:                           2.336   Prob(JB):                     2.72e-43\n",
      "Kurtosis:                      11.392   Cond. No.                         201.\n",
      "==============================================================================\n",
      "\n",
      "Notes:\n",
      "[1] Standard Errors assume that the covariance matrix of the errors is correctly specified.\n"
     ]
    }
   ],
   "source": [
    "x_t2_2= sm.add_constant(x_t2_2)\n",
    "model_t2_2 = sm.OLS(y_t2_2, x_t2_2).fit()\n",
    "print(model_t2_2.summary())\n"
   ]
  },
  {
   "cell_type": "markdown",
   "metadata": {},
   "source": [
    "## interpretation: \n",
    "This regression explores how labor and capital influence output (logged). With an R squared of 0.964, it indicates that labor and capital together explain nearly all output variations. Both labor (+0.47) and capital (+0.52) are statistically significant contributors to output growth.\n",
    "\n"
   ]
  },
  {
   "cell_type": "markdown",
   "metadata": {},
   "source": [
    "# Table 2.3"
   ]
  },
  {
   "cell_type": "code",
   "execution_count": 134,
   "metadata": {},
   "outputs": [],
   "source": [
    "y_t2_3 = table2_1['output']\n",
    "x_t2_3 = table2_1[['labor','capital']]"
   ]
  },
  {
   "cell_type": "code",
   "execution_count": 135,
   "metadata": {},
   "outputs": [
    {
     "name": "stdout",
     "output_type": "stream",
     "text": [
      "                            OLS Regression Results                            \n",
      "==============================================================================\n",
      "Dep. Variable:                 output   R-squared:                       0.981\n",
      "Model:                            OLS   Adj. R-squared:                  0.980\n",
      "Method:                 Least Squares   F-statistic:                     1244.\n",
      "Date:                Sun, 24 Nov 2024   Prob (F-statistic):           4.51e-42\n",
      "Time:                        16:54:39   Log-Likelihood:                -869.28\n",
      "No. Observations:                  51   AIC:                             1745.\n",
      "Df Residuals:                      48   BIC:                             1750.\n",
      "Df Model:                           2                                         \n",
      "Covariance Type:            nonrobust                                         \n",
      "==============================================================================\n",
      "                 coef    std err          t      P>|t|      [0.025      0.975]\n",
      "------------------------------------------------------------------------------\n",
      "const       2.336e+05   1.25e+06      0.187      0.853   -2.28e+06    2.75e+06\n",
      "labor         47.9874      7.058      6.799      0.000      33.796      62.179\n",
      "capital        9.9519      0.978     10.175      0.000       7.985      11.919\n",
      "==============================================================================\n",
      "Omnibus:                       14.842   Durbin-Watson:                   1.685\n",
      "Prob(Omnibus):                  0.001   Jarque-Bera (JB):               16.862\n",
      "Skew:                           1.153   Prob(JB):                     0.000218\n",
      "Kurtosis:                       4.618   Cond. No.                     5.27e+06\n",
      "==============================================================================\n",
      "\n",
      "Notes:\n",
      "[1] Standard Errors assume that the covariance matrix of the errors is correctly specified.\n",
      "[2] The condition number is large, 5.27e+06. This might indicate that there are\n",
      "strong multicollinearity or other numerical problems.\n"
     ]
    }
   ],
   "source": [
    "x_t2_3= sm.add_constant(x_t2_3)\n",
    "model_t2_3 = sm.OLS(y_t2_3, x_t2_3).fit()\n",
    "print(model_t2_3.summary())\n"
   ]
  },
  {
   "cell_type": "markdown",
   "metadata": {},
   "source": [
    "## Interpretation:\n",
    "In this model, the unlogged output is analyzed against labor and capital. The model explains 98.1% of the output variation (R² = 0.981). Labor and capital both significantly drive output, with labor having a greater impact (+47.99) than capital (+9.95).\n",
    "\n"
   ]
  },
  {
   "cell_type": "markdown",
   "metadata": {},
   "source": [
    "# Table 2.4"
   ]
  },
  {
   "cell_type": "code",
   "execution_count": 136,
   "metadata": {},
   "outputs": [
    {
     "data": {
      "text/plain": [
       "Index(['obs', 'output', 'labor', 'capital', 'lnoutput', 'lnlabor', 'lncapital',\n",
       "       'lnoutlab', 'lncaplab', 'outputstar', 'capitalstar', 'laborstar'],\n",
       "      dtype='object')"
      ]
     },
     "execution_count": 136,
     "metadata": {},
     "output_type": "execute_result"
    }
   ],
   "source": [
    "table2_1.columns"
   ]
  },
  {
   "cell_type": "code",
   "execution_count": 137,
   "metadata": {},
   "outputs": [],
   "source": [
    "table2_1['log(output/labor)'] = np.log(table2_1['output']/ table2_1['labor'])\n",
    "table2_1['log(capital/labor)'] = np.log(table2_1['capital']/ table2_1['labor'])"
   ]
  },
  {
   "cell_type": "code",
   "execution_count": 138,
   "metadata": {},
   "outputs": [],
   "source": [
    "x_t2_4 = table2_1['log(capital/labor)']\n",
    "y_t2_4 = table2_1['log(output/labor)']\n"
   ]
  },
  {
   "cell_type": "code",
   "execution_count": 139,
   "metadata": {},
   "outputs": [
    {
     "name": "stdout",
     "output_type": "stream",
     "text": [
      "                            OLS Regression Results                            \n",
      "==============================================================================\n",
      "Dep. Variable:      log(output/labor)   R-squared:                       0.379\n",
      "Model:                            OLS   Adj. R-squared:                  0.366\n",
      "Method:                 Least Squares   F-statistic:                     29.88\n",
      "Date:                Sun, 24 Nov 2024   Prob (F-statistic):           1.54e-06\n",
      "Time:                        16:55:17   Log-Likelihood:                -3.5017\n",
      "No. Observations:                  51   AIC:                             11.00\n",
      "Df Residuals:                      49   BIC:                             14.87\n",
      "Df Model:                           1                                         \n",
      "Covariance Type:            nonrobust                                         \n",
      "======================================================================================\n",
      "                         coef    std err          t      P>|t|      [0.025      0.975]\n",
      "--------------------------------------------------------------------------------------\n",
      "const                  3.7562      0.185     20.264      0.000       3.384       4.129\n",
      "log(capital/labor)     0.5238      0.096      5.466      0.000       0.331       0.716\n",
      "==============================================================================\n",
      "Omnibus:                       47.635   Durbin-Watson:                   1.937\n",
      "Prob(Omnibus):                  0.000   Jarque-Bera (JB):              216.904\n",
      "Skew:                           2.439   Prob(JB):                     7.94e-48\n",
      "Kurtosis:                      11.848   Cond. No.                         12.2\n",
      "==============================================================================\n",
      "\n",
      "Notes:\n",
      "[1] Standard Errors assume that the covariance matrix of the errors is correctly specified.\n"
     ]
    }
   ],
   "source": [
    "x_t2_4= sm.add_constant(x_t2_4)\n",
    "model_t2_4 = sm.OLS(y_t2_4,x_t2_4).fit()\n",
    "print(model_t2_4.summary())"
   ]
  },
  {
   "cell_type": "markdown",
   "metadata": {},
   "source": [
    "## Interpretation\n",
    "This table focuses on productivity by comparing capital intensity. The model explains 37.9% of the variation in productivity (R² = 0.379), with a strong positive relationship between capital intensity and output per worker (+0.52)."
   ]
  },
  {
   "cell_type": "markdown",
   "metadata": {},
   "source": [
    "# Table 2.6"
   ]
  },
  {
   "cell_type": "code",
   "execution_count": 140,
   "metadata": {},
   "outputs": [],
   "source": [
    "table2_5 = pd.read_excel(r\"C:\\Users\\lenovo\\Downloads\\eco\\Excel_files\\Table2_5.xls \")"
   ]
  },
  {
   "cell_type": "code",
   "execution_count": 141,
   "metadata": {},
   "outputs": [
    {
     "data": {
      "text/html": [
       "<div>\n",
       "<style scoped>\n",
       "    .dataframe tbody tr th:only-of-type {\n",
       "        vertical-align: middle;\n",
       "    }\n",
       "\n",
       "    .dataframe tbody tr th {\n",
       "        vertical-align: top;\n",
       "    }\n",
       "\n",
       "    .dataframe thead th {\n",
       "        text-align: right;\n",
       "    }\n",
       "</style>\n",
       "<table border=\"1\" class=\"dataframe\">\n",
       "  <thead>\n",
       "    <tr style=\"text-align: right;\">\n",
       "      <th></th>\n",
       "      <th>rgdp</th>\n",
       "      <th>time</th>\n",
       "      <th>time2</th>\n",
       "      <th>lnrgdp</th>\n",
       "    </tr>\n",
       "  </thead>\n",
       "  <tbody>\n",
       "    <tr>\n",
       "      <th>0</th>\n",
       "      <td>2501.8</td>\n",
       "      <td>1</td>\n",
       "      <td>1</td>\n",
       "      <td>7.824766</td>\n",
       "    </tr>\n",
       "    <tr>\n",
       "      <th>1</th>\n",
       "      <td>2560.0</td>\n",
       "      <td>2</td>\n",
       "      <td>4</td>\n",
       "      <td>7.847763</td>\n",
       "    </tr>\n",
       "    <tr>\n",
       "      <th>2</th>\n",
       "      <td>2715.2</td>\n",
       "      <td>3</td>\n",
       "      <td>9</td>\n",
       "      <td>7.906621</td>\n",
       "    </tr>\n",
       "    <tr>\n",
       "      <th>3</th>\n",
       "      <td>2834.0</td>\n",
       "      <td>4</td>\n",
       "      <td>16</td>\n",
       "      <td>7.949444</td>\n",
       "    </tr>\n",
       "    <tr>\n",
       "      <th>4</th>\n",
       "      <td>2998.6</td>\n",
       "      <td>5</td>\n",
       "      <td>25</td>\n",
       "      <td>8.005900</td>\n",
       "    </tr>\n",
       "  </tbody>\n",
       "</table>\n",
       "</div>"
      ],
      "text/plain": [
       "     rgdp  time  time2    lnrgdp\n",
       "0  2501.8     1      1  7.824766\n",
       "1  2560.0     2      4  7.847763\n",
       "2  2715.2     3      9  7.906621\n",
       "3  2834.0     4     16  7.949444\n",
       "4  2998.6     5     25  8.005900"
      ]
     },
     "execution_count": 141,
     "metadata": {},
     "output_type": "execute_result"
    }
   ],
   "source": [
    "table2_5.head()"
   ]
  },
  {
   "cell_type": "code",
   "execution_count": 143,
   "metadata": {},
   "outputs": [],
   "source": [
    "x_t2_6 = table2_5['time']\n",
    "y_t2_6 = table2_5['lnrgdp']"
   ]
  },
  {
   "cell_type": "code",
   "execution_count": 144,
   "metadata": {},
   "outputs": [
    {
     "name": "stdout",
     "output_type": "stream",
     "text": [
      "                            OLS Regression Results                            \n",
      "==============================================================================\n",
      "Dep. Variable:                 lnrgdp   R-squared:                       0.994\n",
      "Model:                            OLS   Adj. R-squared:                  0.994\n",
      "Method:                 Least Squares   F-statistic:                     8248.\n",
      "Date:                Sun, 24 Nov 2024   Prob (F-statistic):           1.52e-53\n",
      "Time:                        17:00:35   Log-Likelihood:                 96.247\n",
      "No. Observations:                  48   AIC:                            -188.5\n",
      "Df Residuals:                      46   BIC:                            -184.8\n",
      "Df Model:                           1                                         \n",
      "Covariance Type:            nonrobust                                         \n",
      "==============================================================================\n",
      "                 coef    std err          t      P>|t|      [0.025      0.975]\n",
      "------------------------------------------------------------------------------\n",
      "const          7.8757      0.010    807.007      0.000       7.856       7.895\n",
      "time           0.0315      0.000     90.817      0.000       0.031       0.032\n",
      "==============================================================================\n",
      "Omnibus:                        5.145   Durbin-Watson:                   0.348\n",
      "Prob(Omnibus):                  0.076   Jarque-Bera (JB):                4.149\n",
      "Skew:                          -0.696   Prob(JB):                        0.126\n",
      "Kurtosis:                       3.368   Cond. No.                         57.2\n",
      "==============================================================================\n",
      "\n",
      "Notes:\n",
      "[1] Standard Errors assume that the covariance matrix of the errors is correctly specified.\n"
     ]
    }
   ],
   "source": [
    "x_t2_6 = sm.add_constant(x_t2_6)\n",
    "model_t2_6 = sm.OLS(y_t2_6,x_t2_6).fit()\n",
    "print(model_t2_6.summary())"
   ]
  },
  {
   "cell_type": "markdown",
   "metadata": {},
   "source": [
    "## Interpretation:\n",
    "This regression measures the real GDP growth trend over time. It shows a high explanatory power (R² = 0.994). Time has a significant and positive impact (+0.0315 per unit of time).\n",
    "\n"
   ]
  },
  {
   "cell_type": "markdown",
   "metadata": {},
   "source": [
    "# Table 2.7"
   ]
  },
  {
   "cell_type": "code",
   "execution_count": 145,
   "metadata": {},
   "outputs": [],
   "source": [
    "x_t2_7 = table2_5['time']\n",
    "y_t2_7 = table2_5['rgdp']"
   ]
  },
  {
   "cell_type": "code",
   "execution_count": 146,
   "metadata": {},
   "outputs": [
    {
     "name": "stdout",
     "output_type": "stream",
     "text": [
      "                            OLS Regression Results                            \n",
      "==============================================================================\n",
      "Dep. Variable:                   rgdp   R-squared:                       0.972\n",
      "Model:                            OLS   Adj. R-squared:                  0.971\n",
      "Method:                 Least Squares   F-statistic:                     1590.\n",
      "Date:                Sun, 24 Nov 2024   Prob (F-statistic):           2.52e-37\n",
      "Time:                        17:02:58   Log-Likelihood:                -360.35\n",
      "No. Observations:                  48   AIC:                             724.7\n",
      "Df Residuals:                      46   BIC:                             728.4\n",
      "Df Model:                           1                                         \n",
      "Covariance Type:            nonrobust                                         \n",
      "==============================================================================\n",
      "                 coef    std err          t      P>|t|      [0.025      0.975]\n",
      "------------------------------------------------------------------------------\n",
      "const       1664.2176    131.999     12.608      0.000    1398.517    1929.918\n",
      "time         186.9939      4.690     39.872      0.000     177.554     196.434\n",
      "==============================================================================\n",
      "Omnibus:                        9.578   Durbin-Watson:                   0.069\n",
      "Prob(Omnibus):                  0.008   Jarque-Bera (JB):                3.013\n",
      "Skew:                           0.213   Prob(JB):                        0.222\n",
      "Kurtosis:                       1.849   Cond. No.                         57.2\n",
      "==============================================================================\n",
      "\n",
      "Notes:\n",
      "[1] Standard Errors assume that the covariance matrix of the errors is correctly specified.\n"
     ]
    }
   ],
   "source": [
    "x_t2_7 = sm.add_constant(x_t2_7)\n",
    "model_t2_7 = sm.OLS(y_t2_7,x_t2_7).fit()\n",
    "print(model_t2_7.summary())"
   ]
  },
  {
   "cell_type": "markdown",
   "metadata": {},
   "source": [
    "## Interpretation:\n",
    "The model evaluates real GDP over time, explaining 97.2% of the variation (R² = 0.972). The time variable strongly predicts GDP growth, with each time unit increasing GDP by approximately +187.\n",
    "\n"
   ]
  },
  {
   "cell_type": "markdown",
   "metadata": {},
   "source": [
    "# Table 2.9"
   ]
  },
  {
   "cell_type": "code",
   "execution_count": 148,
   "metadata": {},
   "outputs": [],
   "source": [
    "table2_8 = pd.read_excel(r\"C:\\Users\\lenovo\\Downloads\\eco\\Excel_files\\Table2_8.xls\")"
   ]
  },
  {
   "cell_type": "code",
   "execution_count": 149,
   "metadata": {},
   "outputs": [
    {
     "data": {
      "text/html": [
       "<div>\n",
       "<style scoped>\n",
       "    .dataframe tbody tr th:only-of-type {\n",
       "        vertical-align: middle;\n",
       "    }\n",
       "\n",
       "    .dataframe tbody tr th {\n",
       "        vertical-align: top;\n",
       "    }\n",
       "\n",
       "    .dataframe thead th {\n",
       "        text-align: right;\n",
       "    }\n",
       "</style>\n",
       "<table border=\"1\" class=\"dataframe\">\n",
       "  <thead>\n",
       "    <tr style=\"text-align: right;\">\n",
       "      <th></th>\n",
       "      <th>fdho</th>\n",
       "      <th>expend</th>\n",
       "      <th>sfdho</th>\n",
       "      <th>lnexpend</th>\n",
       "      <th>expend_rec</th>\n",
       "      <th>expend2</th>\n",
       "    </tr>\n",
       "  </thead>\n",
       "  <tbody>\n",
       "    <tr>\n",
       "      <th>0</th>\n",
       "      <td>6475</td>\n",
       "      <td>40516.75</td>\n",
       "      <td>0.159810</td>\n",
       "      <td>10.609470</td>\n",
       "      <td>0.000025</td>\n",
       "      <td>1640000000</td>\n",
       "    </tr>\n",
       "    <tr>\n",
       "      <th>1</th>\n",
       "      <td>3146</td>\n",
       "      <td>33540.50</td>\n",
       "      <td>0.093797</td>\n",
       "      <td>10.420510</td>\n",
       "      <td>0.000030</td>\n",
       "      <td>1120000000</td>\n",
       "    </tr>\n",
       "    <tr>\n",
       "      <th>2</th>\n",
       "      <td>1632</td>\n",
       "      <td>5181.85</td>\n",
       "      <td>0.314945</td>\n",
       "      <td>8.552917</td>\n",
       "      <td>0.000193</td>\n",
       "      <td>26900000</td>\n",
       "    </tr>\n",
       "    <tr>\n",
       "      <th>3</th>\n",
       "      <td>2405</td>\n",
       "      <td>40385.00</td>\n",
       "      <td>0.059552</td>\n",
       "      <td>10.606210</td>\n",
       "      <td>0.000025</td>\n",
       "      <td>1630000000</td>\n",
       "    </tr>\n",
       "    <tr>\n",
       "      <th>4</th>\n",
       "      <td>2227</td>\n",
       "      <td>40302.25</td>\n",
       "      <td>0.055258</td>\n",
       "      <td>10.604160</td>\n",
       "      <td>0.000025</td>\n",
       "      <td>1620000000</td>\n",
       "    </tr>\n",
       "  </tbody>\n",
       "</table>\n",
       "</div>"
      ],
      "text/plain": [
       "   fdho    expend     sfdho   lnexpend  expend_rec     expend2\n",
       "0  6475  40516.75  0.159810  10.609470    0.000025  1640000000\n",
       "1  3146  33540.50  0.093797  10.420510    0.000030  1120000000\n",
       "2  1632   5181.85  0.314945   8.552917    0.000193    26900000\n",
       "3  2405  40385.00  0.059552  10.606210    0.000025  1630000000\n",
       "4  2227  40302.25  0.055258  10.604160    0.000025  1620000000"
      ]
     },
     "execution_count": 149,
     "metadata": {},
     "output_type": "execute_result"
    }
   ],
   "source": [
    "table2_8.head()"
   ]
  },
  {
   "cell_type": "code",
   "execution_count": 150,
   "metadata": {},
   "outputs": [],
   "source": [
    "x_t2_9 = np.log(table2_8['expend'])\n",
    "y_t2_9 = table2_8['sfdho']\n"
   ]
  },
  {
   "cell_type": "code",
   "execution_count": 151,
   "metadata": {},
   "outputs": [
    {
     "name": "stdout",
     "output_type": "stream",
     "text": [
      "                            OLS Regression Results                            \n",
      "==============================================================================\n",
      "Dep. Variable:                  sfdho   R-squared:                       0.351\n",
      "Model:                            OLS   Adj. R-squared:                  0.350\n",
      "Method:                 Least Squares   F-statistic:                     468.6\n",
      "Date:                Sun, 24 Nov 2024   Prob (F-statistic):           2.01e-83\n",
      "Time:                        17:09:29   Log-Likelihood:                 1094.5\n",
      "No. Observations:                 869   AIC:                            -2185.\n",
      "Df Residuals:                     867   BIC:                            -2175.\n",
      "Df Model:                           1                                         \n",
      "Covariance Type:            nonrobust                                         \n",
      "==============================================================================\n",
      "                 coef    std err          t      P>|t|      [0.025      0.975]\n",
      "------------------------------------------------------------------------------\n",
      "const          0.9304      0.036     25.584      0.000       0.859       1.002\n",
      "expend        -0.0777      0.004    -21.648      0.000      -0.085      -0.071\n",
      "==============================================================================\n",
      "Omnibus:                      261.174   Durbin-Watson:                   1.968\n",
      "Prob(Omnibus):                  0.000   Jarque-Bera (JB):             1192.813\n",
      "Skew:                           1.319   Prob(JB):                    9.64e-260\n",
      "Kurtosis:                       8.097   Cond. No.                         159.\n",
      "==============================================================================\n",
      "\n",
      "Notes:\n",
      "[1] Standard Errors assume that the covariance matrix of the errors is correctly specified.\n"
     ]
    }
   ],
   "source": [
    "x_t2_9 = sm.add_constant(x_t2_9)\n",
    "model_t2_9 = sm.OLS(y_t2_9,x_t2_9).fit()\n",
    "print(model_t2_9.summary())"
   ]
  },
  {
   "cell_type": "markdown",
   "metadata": {},
   "source": [
    "## Interpretation:\n",
    "These regressions analyze household spending based on different expenditure measures. Table 2.9 shows that an increase in general expenditures decreases SFDHO (-0.0777)"
   ]
  },
  {
   "cell_type": "markdown",
   "metadata": {},
   "source": [
    "# Table 2.10"
   ]
  },
  {
   "cell_type": "code",
   "execution_count": 157,
   "metadata": {},
   "outputs": [],
   "source": [
    "table2_8['1/expend'] = 1/table2_8['expend']"
   ]
  },
  {
   "cell_type": "code",
   "execution_count": 158,
   "metadata": {},
   "outputs": [],
   "source": [
    "x_t2_10 = table2_8['1/expend']\n",
    "y_t2_10 = table2_8['sfdho']"
   ]
  },
  {
   "cell_type": "code",
   "execution_count": 161,
   "metadata": {},
   "outputs": [
    {
     "name": "stdout",
     "output_type": "stream",
     "text": [
      "                            OLS Regression Results                            \n",
      "==============================================================================\n",
      "Dep. Variable:                  sfdho   R-squared:                       0.333\n",
      "Model:                            OLS   Adj. R-squared:                  0.332\n",
      "Method:                 Least Squares   F-statistic:                     433.3\n",
      "Date:                Sun, 24 Nov 2024   Prob (F-statistic):           2.30e-78\n",
      "Time:                        18:46:20   Log-Likelihood:                 1082.8\n",
      "No. Observations:                 869   AIC:                            -2162.\n",
      "Df Residuals:                     867   BIC:                            -2152.\n",
      "Df Model:                           1                                         \n",
      "Covariance Type:            nonrobust                                         \n",
      "==============================================================================\n",
      "                 coef    std err          t      P>|t|      [0.025      0.975]\n",
      "------------------------------------------------------------------------------\n",
      "const          0.0773      0.004     19.260      0.000       0.069       0.085\n",
      "1/expend    1331.3381     63.957     20.816      0.000    1205.809    1456.867\n",
      "==============================================================================\n",
      "Omnibus:                      237.189   Durbin-Watson:                   1.998\n",
      "Prob(Omnibus):                  0.000   Jarque-Bera (JB):             1060.339\n",
      "Skew:                           1.195   Prob(JB):                    5.63e-231\n",
      "Kurtosis:                       7.855   Cond. No.                     2.71e+04\n",
      "==============================================================================\n",
      "\n",
      "Notes:\n",
      "[1] Standard Errors assume that the covariance matrix of the errors is correctly specified.\n",
      "[2] The condition number is large, 2.71e+04. This might indicate that there are\n",
      "strong multicollinearity or other numerical problems.\n"
     ]
    }
   ],
   "source": [
    "x_t2_10 = sm.add_constant(x_t2_10)\n",
    "model_t2_10 = sm.OLS(y_t2_10,x_t2_10).fit()\n",
    "print(model_t2_10.summary())"
   ]
  },
  {
   "cell_type": "markdown",
   "metadata": {},
   "source": [
    "## Interpretation:\n",
    "this table indicates that inverse expenditure has a substantial positive coefficient (+1331)."
   ]
  },
  {
   "cell_type": "markdown",
   "metadata": {},
   "source": [
    "# Table 2.11"
   ]
  },
  {
   "cell_type": "code",
   "execution_count": 160,
   "metadata": {},
   "outputs": [],
   "source": [
    "x_t2_11 = table2_5[['time','time2']] \n",
    "y_t2_11 = table2_5['rgdp']"
   ]
  },
  {
   "cell_type": "code",
   "execution_count": 162,
   "metadata": {},
   "outputs": [
    {
     "name": "stdout",
     "output_type": "stream",
     "text": [
      "                            OLS Regression Results                            \n",
      "==============================================================================\n",
      "Dep. Variable:                   rgdp   R-squared:                       0.997\n",
      "Model:                            OLS   Adj. R-squared:                  0.997\n",
      "Method:                 Least Squares   F-statistic:                     6979.\n",
      "Date:                Sun, 24 Nov 2024   Prob (F-statistic):           8.07e-57\n",
      "Time:                        18:46:32   Log-Likelihood:                -308.28\n",
      "No. Observations:                  48   AIC:                             622.6\n",
      "Df Residuals:                      45   BIC:                             628.2\n",
      "Df Model:                           2                                         \n",
      "Covariance Type:            nonrobust                                         \n",
      "==============================================================================\n",
      "                 coef    std err          t      P>|t|      [0.025      0.975]\n",
      "------------------------------------------------------------------------------\n",
      "const       2651.3806     69.491     38.154      0.000    2511.419    2791.342\n",
      "time          68.5344      6.542     10.476      0.000      55.358      81.711\n",
      "time2          2.4175      0.129     18.676      0.000       2.157       2.678\n",
      "==============================================================================\n",
      "Omnibus:                        2.192   Durbin-Watson:                   0.463\n",
      "Prob(Omnibus):                  0.334   Jarque-Bera (JB):                1.684\n",
      "Skew:                          -0.283   Prob(JB):                        0.431\n",
      "Kurtosis:                       2.278   Cond. No.                     3.32e+03\n",
      "==============================================================================\n",
      "\n",
      "Notes:\n",
      "[1] Standard Errors assume that the covariance matrix of the errors is correctly specified.\n",
      "[2] The condition number is large, 3.32e+03. This might indicate that there are\n",
      "strong multicollinearity or other numerical problems.\n"
     ]
    }
   ],
   "source": [
    "x_t2_11 = sm.add_constant(x_t2_11)\n",
    "model_t2_11 = sm.OLS(y_t2_11,x_t2_11).fit()\n",
    "print(model_t2_11.summary())"
   ]
  },
  {
   "cell_type": "markdown",
   "metadata": {},
   "source": [
    "## Interpretation:\n",
    "this introduces a quadratic term for time explaining 99.7% of GDP variations. The second order time term is highly significant."
   ]
  },
  {
   "cell_type": "markdown",
   "metadata": {},
   "source": [
    "# Table 2.12"
   ]
  },
  {
   "cell_type": "code",
   "execution_count": 163,
   "metadata": {},
   "outputs": [],
   "source": [
    "x_t2_12 = table2_5[['time','time2']] \n",
    "y_t2_12 = table2_5['lnrgdp']"
   ]
  },
  {
   "cell_type": "code",
   "execution_count": 165,
   "metadata": {},
   "outputs": [
    {
     "name": "stdout",
     "output_type": "stream",
     "text": [
      "                            OLS Regression Results                            \n",
      "==============================================================================\n",
      "Dep. Variable:                 lnrgdp   R-squared:                       0.996\n",
      "Model:                            OLS   Adj. R-squared:                  0.996\n",
      "Method:                 Least Squares   F-statistic:                     5739.\n",
      "Date:                Sun, 24 Nov 2024   Prob (F-statistic):           6.49e-55\n",
      "Time:                        18:51:20   Log-Likelihood:                 104.67\n",
      "No. Observations:                  48   AIC:                            -203.3\n",
      "Df Residuals:                      45   BIC:                            -197.7\n",
      "Df Model:                           2                                         \n",
      "Covariance Type:            nonrobust                                         \n",
      "==============================================================================\n",
      "                 coef    std err          t      P>|t|      [0.025      0.975]\n",
      "------------------------------------------------------------------------------\n",
      "const          7.8335      0.013    614.224      0.000       7.808       7.859\n",
      "time           0.0366      0.001     30.443      0.000       0.034       0.039\n",
      "time2         -0.0001   2.38e-05     -4.348      0.000      -0.000   -5.55e-05\n",
      "==============================================================================\n",
      "Omnibus:                        0.667   Durbin-Watson:                   0.472\n",
      "Prob(Omnibus):                  0.717   Jarque-Bera (JB):                0.651\n",
      "Skew:                          -0.261   Prob(JB):                        0.722\n",
      "Kurtosis:                       2.769   Cond. No.                     3.32e+03\n",
      "==============================================================================\n",
      "\n",
      "Notes:\n",
      "[1] Standard Errors assume that the covariance matrix of the errors is correctly specified.\n",
      "[2] The condition number is large, 3.32e+03. This might indicate that there are\n",
      "strong multicollinearity or other numerical problems.\n"
     ]
    }
   ],
   "source": [
    "x_t2_12 = sm.add_constant(x_t2_12)\n",
    "model_t2_12 = sm.OLS(y_t2_12,x_t2_12).fit()\n",
    "print(model_t2_12.summary())"
   ]
  },
  {
   "cell_type": "markdown",
   "metadata": {},
   "source": [
    "## Interpretation:\n",
    "this confirms that both linear and quadratic time trends explain real GDP, with slight negative curvature over time."
   ]
  },
  {
   "cell_type": "markdown",
   "metadata": {},
   "source": [
    "# Table 2.14"
   ]
  },
  {
   "cell_type": "code",
   "execution_count": 168,
   "metadata": {},
   "outputs": [
    {
     "data": {
      "text/plain": [
       "Index(['obs', 'output', 'labor', 'capital', 'lnoutput', 'lnlabor', 'lncapital',\n",
       "       'lnoutlab', 'lncaplab', 'outputstar', 'capitalstar', 'laborstar',\n",
       "       'log(output/labor)', 'log(capital/labor)'],\n",
       "      dtype='object')"
      ]
     },
     "execution_count": 168,
     "metadata": {},
     "output_type": "execute_result"
    }
   ],
   "source": [
    "table2_1.columns"
   ]
  },
  {
   "cell_type": "code",
   "execution_count": 169,
   "metadata": {},
   "outputs": [],
   "source": [
    "x_t2_14 = table2_1[['laborstar', 'capitalstar']]\n",
    "y_t2_14 = table2_1['outputstar']"
   ]
  },
  {
   "cell_type": "code",
   "execution_count": 170,
   "metadata": {},
   "outputs": [
    {
     "name": "stdout",
     "output_type": "stream",
     "text": [
      "                            OLS Regression Results                            \n",
      "==============================================================================\n",
      "Dep. Variable:             outputstar   R-squared:                       0.981\n",
      "Model:                            OLS   Adj. R-squared:                  0.980\n",
      "Method:                 Least Squares   F-statistic:                     1244.\n",
      "Date:                Sun, 24 Nov 2024   Prob (F-statistic):           4.51e-42\n",
      "Time:                        18:54:16   Log-Likelihood:                 29.291\n",
      "No. Observations:                  51   AIC:                            -52.58\n",
      "Df Residuals:                      48   BIC:                            -46.79\n",
      "Df Model:                           2                                         \n",
      "Covariance Type:            nonrobust                                         \n",
      "===============================================================================\n",
      "                  coef    std err          t      P>|t|      [0.025      0.975]\n",
      "-------------------------------------------------------------------------------\n",
      "const       -3.127e-09      0.020  -1.59e-07      1.000      -0.040       0.040\n",
      "laborstar       0.4024      0.059      6.799      0.000       0.283       0.521\n",
      "capitalstar     0.6022      0.059     10.175      0.000       0.483       0.721\n",
      "==============================================================================\n",
      "Omnibus:                       14.842   Durbin-Watson:                   1.685\n",
      "Prob(Omnibus):                  0.001   Jarque-Bera (JB):               16.862\n",
      "Skew:                           1.153   Prob(JB):                     0.000218\n",
      "Kurtosis:                       4.618   Cond. No.                         5.79\n",
      "==============================================================================\n",
      "\n",
      "Notes:\n",
      "[1] Standard Errors assume that the covariance matrix of the errors is correctly specified.\n"
     ]
    }
   ],
   "source": [
    "x_t2_14 = sm.add_constant(x_t2_14)\n",
    "model_t2_14 = sm.OLS(y_t2_14,x_t2_14).fit()\n",
    "print(model_t2_14.summary())"
   ]
  },
  {
   "cell_type": "markdown",
   "metadata": {},
   "source": [
    "## interpretation:\n",
    "R-squared: 0.981 (high explanatory power)\n",
    "Significant Predictors:\n",
    "laborstar and capitalstar are highly significant (p < 0.001).\n"
   ]
  },
  {
   "cell_type": "markdown",
   "metadata": {},
   "source": [
    "# Table 3.1"
   ]
  },
  {
   "cell_type": "code",
   "execution_count": 171,
   "metadata": {},
   "outputs": [],
   "source": [
    "y_t3_1 = table1_1['wage']\n",
    "x_t3_1 = table1_1[['female', 'nonwhite', 'union', 'education', 'exper']]"
   ]
  },
  {
   "cell_type": "code",
   "execution_count": 172,
   "metadata": {},
   "outputs": [
    {
     "name": "stdout",
     "output_type": "stream",
     "text": [
      "                            OLS Regression Results                            \n",
      "==============================================================================\n",
      "Dep. Variable:                   wage   R-squared:                       0.323\n",
      "Model:                            OLS   Adj. R-squared:                  0.321\n",
      "Method:                 Least Squares   F-statistic:                     122.6\n",
      "Date:                Sun, 24 Nov 2024   Prob (F-statistic):          3.45e-106\n",
      "Time:                        18:57:37   Log-Likelihood:                -4240.4\n",
      "No. Observations:                1289   AIC:                             8493.\n",
      "Df Residuals:                    1283   BIC:                             8524.\n",
      "Df Model:                           5                                         \n",
      "Covariance Type:            nonrobust                                         \n",
      "==============================================================================\n",
      "                 coef    std err          t      P>|t|      [0.025      0.975]\n",
      "------------------------------------------------------------------------------\n",
      "const         -7.1833      1.016     -7.072      0.000      -9.176      -5.191\n",
      "female        -3.0749      0.365     -8.433      0.000      -3.790      -2.360\n",
      "nonwhite      -1.5653      0.509     -3.074      0.002      -2.564      -0.566\n",
      "union          1.0960      0.506      2.166      0.031       0.103       2.089\n",
      "education      1.3703      0.066     20.792      0.000       1.241       1.500\n",
      "exper          0.1666      0.016     10.382      0.000       0.135       0.198\n",
      "==============================================================================\n",
      "Omnibus:                      525.319   Durbin-Watson:                   1.898\n",
      "Prob(Omnibus):                  0.000   Jarque-Bera (JB):             3519.893\n",
      "Skew:                           1.747   Prob(JB):                         0.00\n",
      "Kurtosis:                      10.303   Cond. No.                         141.\n",
      "==============================================================================\n",
      "\n",
      "Notes:\n",
      "[1] Standard Errors assume that the covariance matrix of the errors is correctly specified.\n"
     ]
    }
   ],
   "source": [
    "x_t3_1 = sm.add_constant(x_t3_1)\n",
    "model_t3_1 = sm.OLS(y_t3_1,x_t3_1).fit()\n",
    "print(model_t3_1.summary())"
   ]
  },
  {
   "cell_type": "markdown",
   "metadata": {},
   "source": [
    "## interpretation:\n",
    "R-squared: 0.323 (moderate explanatory power)\n",
    "\n",
    "Significant Predictors:\n",
    "Gender (female), race (nonwhite), union status, education, and experience.\n",
    "Gender has a negative impact on wages, and education has a strong positive effect."
   ]
  },
  {
   "cell_type": "markdown",
   "metadata": {},
   "source": [
    "# Table 3.2"
   ]
  },
  {
   "cell_type": "code",
   "execution_count": null,
   "metadata": {},
   "outputs": [],
   "source": [
    "table1_1['D2(Gender)']=pd.get_dummies(table1_1['female'], drop_first=True)\n",
    "table1_1['D3(Race)']=pd.get_dummies(table1_1['nonwhite'], drop_first=True)\n",
    "table1_1['D4(Union)']=pd.get_dummies(table1_1['union'], drop_first=True)"
   ]
  },
  {
   "cell_type": "code",
   "execution_count": 176,
   "metadata": {},
   "outputs": [
    {
     "data": {
      "text/html": [
       "<div>\n",
       "<style scoped>\n",
       "    .dataframe tbody tr th:only-of-type {\n",
       "        vertical-align: middle;\n",
       "    }\n",
       "\n",
       "    .dataframe tbody tr th {\n",
       "        vertical-align: top;\n",
       "    }\n",
       "\n",
       "    .dataframe thead th {\n",
       "        text-align: right;\n",
       "    }\n",
       "</style>\n",
       "<table border=\"1\" class=\"dataframe\">\n",
       "  <thead>\n",
       "    <tr style=\"text-align: right;\">\n",
       "      <th></th>\n",
       "      <th>obs</th>\n",
       "      <th>wage</th>\n",
       "      <th>female</th>\n",
       "      <th>nonwhite</th>\n",
       "      <th>union</th>\n",
       "      <th>education</th>\n",
       "      <th>exper</th>\n",
       "      <th>age</th>\n",
       "      <th>wind</th>\n",
       "      <th>femalenonw</th>\n",
       "      <th>lnwage</th>\n",
       "      <th>D2(Gender)</th>\n",
       "      <th>D3(Race)</th>\n",
       "      <th>D4(Union)</th>\n",
       "    </tr>\n",
       "  </thead>\n",
       "  <tbody>\n",
       "    <tr>\n",
       "      <th>0</th>\n",
       "      <td>1</td>\n",
       "      <td>11.55</td>\n",
       "      <td>1</td>\n",
       "      <td>0</td>\n",
       "      <td>0</td>\n",
       "      <td>12</td>\n",
       "      <td>20</td>\n",
       "      <td>38</td>\n",
       "      <td>1</td>\n",
       "      <td>0</td>\n",
       "      <td>2.446686</td>\n",
       "      <td>True</td>\n",
       "      <td>False</td>\n",
       "      <td>False</td>\n",
       "    </tr>\n",
       "    <tr>\n",
       "      <th>1</th>\n",
       "      <td>2</td>\n",
       "      <td>5.00</td>\n",
       "      <td>0</td>\n",
       "      <td>0</td>\n",
       "      <td>0</td>\n",
       "      <td>9</td>\n",
       "      <td>9</td>\n",
       "      <td>24</td>\n",
       "      <td>0</td>\n",
       "      <td>0</td>\n",
       "      <td>1.609438</td>\n",
       "      <td>False</td>\n",
       "      <td>False</td>\n",
       "      <td>False</td>\n",
       "    </tr>\n",
       "    <tr>\n",
       "      <th>2</th>\n",
       "      <td>3</td>\n",
       "      <td>12.00</td>\n",
       "      <td>0</td>\n",
       "      <td>0</td>\n",
       "      <td>0</td>\n",
       "      <td>16</td>\n",
       "      <td>15</td>\n",
       "      <td>37</td>\n",
       "      <td>1</td>\n",
       "      <td>0</td>\n",
       "      <td>2.484907</td>\n",
       "      <td>False</td>\n",
       "      <td>False</td>\n",
       "      <td>False</td>\n",
       "    </tr>\n",
       "    <tr>\n",
       "      <th>3</th>\n",
       "      <td>4</td>\n",
       "      <td>7.00</td>\n",
       "      <td>0</td>\n",
       "      <td>1</td>\n",
       "      <td>1</td>\n",
       "      <td>14</td>\n",
       "      <td>38</td>\n",
       "      <td>58</td>\n",
       "      <td>0</td>\n",
       "      <td>0</td>\n",
       "      <td>1.945910</td>\n",
       "      <td>False</td>\n",
       "      <td>True</td>\n",
       "      <td>True</td>\n",
       "    </tr>\n",
       "    <tr>\n",
       "      <th>4</th>\n",
       "      <td>5</td>\n",
       "      <td>21.15</td>\n",
       "      <td>1</td>\n",
       "      <td>1</td>\n",
       "      <td>0</td>\n",
       "      <td>16</td>\n",
       "      <td>19</td>\n",
       "      <td>41</td>\n",
       "      <td>1</td>\n",
       "      <td>1</td>\n",
       "      <td>3.051640</td>\n",
       "      <td>True</td>\n",
       "      <td>True</td>\n",
       "      <td>False</td>\n",
       "    </tr>\n",
       "  </tbody>\n",
       "</table>\n",
       "</div>"
      ],
      "text/plain": [
       "   obs   wage  female  nonwhite  union  education  exper  age  wind  \\\n",
       "0    1  11.55       1         0      0         12     20   38     1   \n",
       "1    2   5.00       0         0      0          9      9   24     0   \n",
       "2    3  12.00       0         0      0         16     15   37     1   \n",
       "3    4   7.00       0         1      1         14     38   58     0   \n",
       "4    5  21.15       1         1      0         16     19   41     1   \n",
       "\n",
       "   femalenonw    lnwage  D2(Gender)  D3(Race)  D4(Union)  \n",
       "0           0  2.446686        True     False      False  \n",
       "1           0  1.609438       False     False      False  \n",
       "2           0  2.484907       False     False      False  \n",
       "3           0  1.945910       False      True       True  \n",
       "4           1  3.051640        True      True      False  "
      ]
     },
     "execution_count": 176,
     "metadata": {},
     "output_type": "execute_result"
    }
   ],
   "source": [
    "table1_1.head()"
   ]
  },
  {
   "cell_type": "code",
   "execution_count": 177,
   "metadata": {},
   "outputs": [
    {
     "data": {
      "text/plain": [
       "Index(['obs', 'wage', 'female', 'nonwhite', 'union', 'education', 'exper',\n",
       "       'age', 'wind', 'femalenonw', 'lnwage', 'D2(Gender)', 'D3(Race)',\n",
       "       'D4(Union)'],\n",
       "      dtype='object')"
      ]
     },
     "execution_count": 177,
     "metadata": {},
     "output_type": "execute_result"
    }
   ],
   "source": [
    "table1_1.columns"
   ]
  },
  {
   "cell_type": "code",
   "execution_count": 190,
   "metadata": {},
   "outputs": [],
   "source": [
    "table1_1['D2*D3(GenderRace)']= table1_1['D2(Gender)']*table1_1['D3(Race)']"
   ]
  },
  {
   "cell_type": "code",
   "execution_count": 191,
   "metadata": {},
   "outputs": [],
   "source": [
    "table1_1['D2(Gender)']= table1_1['D2(Gender)'].astype(np.int64)\n",
    "table1_1['D3(Race)'] = table1_1['D3(Race)'].astype(np.int64)\n",
    "table1_1['D4(Union)']= table1_1['D4(Union)'].astype(np.int64)\n",
    "table1_1['D2*D3(GenderRace)']= table1_1['D2*D3(GenderRace)'].astype(np.int64)"
   ]
  },
  {
   "cell_type": "code",
   "execution_count": 192,
   "metadata": {},
   "outputs": [],
   "source": [
    "x_t3_2 = table1_1[['D2(Gender)', 'D3(Race)', 'D4(Union)', 'education', 'exper','D2*D3(GenderRace)' ]]\n",
    "y_t3_2 = table1_1['wage']"
   ]
  },
  {
   "cell_type": "code",
   "execution_count": 193,
   "metadata": {},
   "outputs": [
    {
     "name": "stdout",
     "output_type": "stream",
     "text": [
      "                            OLS Regression Results                            \n",
      "==============================================================================\n",
      "Dep. Variable:                   wage   R-squared:                       0.324\n",
      "Model:                            OLS   Adj. R-squared:                  0.321\n",
      "Method:                 Least Squares   F-statistic:                     102.4\n",
      "Date:                Sun, 24 Nov 2024   Prob (F-statistic):          2.25e-105\n",
      "Time:                        20:42:34   Log-Likelihood:                -4239.8\n",
      "No. Observations:                1289   AIC:                             8494.\n",
      "Df Residuals:                    1282   BIC:                             8530.\n",
      "Df Model:                           6                                         \n",
      "Covariance Type:            nonrobust                                         \n",
      "=====================================================================================\n",
      "                        coef    std err          t      P>|t|      [0.025      0.975]\n",
      "-------------------------------------------------------------------------------------\n",
      "const                -7.0887      1.019     -6.953      0.000      -9.089      -5.089\n",
      "D2(Gender)           -3.2401      0.395     -8.196      0.000      -4.016      -2.465\n",
      "D3(Race)             -2.1585      0.748     -2.884      0.004      -3.627      -0.690\n",
      "D4(Union)             1.1150      0.506      2.202      0.028       0.122       2.108\n",
      "education             1.3701      0.066     20.791      0.000       1.241       1.499\n",
      "exper                 0.1659      0.016     10.326      0.000       0.134       0.197\n",
      "D2*D3(GenderRace)     1.0954      1.013      1.081      0.280      -0.892       3.082\n",
      "==============================================================================\n",
      "Omnibus:                      527.606   Durbin-Watson:                   1.899\n",
      "Prob(Omnibus):                  0.000   Jarque-Bera (JB):             3564.893\n",
      "Skew:                           1.753   Prob(JB):                         0.00\n",
      "Kurtosis:                      10.354   Cond. No.                         167.\n",
      "==============================================================================\n",
      "\n",
      "Notes:\n",
      "[1] Standard Errors assume that the covariance matrix of the errors is correctly specified.\n"
     ]
    }
   ],
   "source": [
    "x_t3_2 = sm.add_constant(x_t3_2)\n",
    "model_t3_2 = sm.OLS(y_t3_2,x_t3_2).fit()\n",
    "print(model_t3_2.summary())"
   ]
  },
  {
   "cell_type": "markdown",
   "metadata": {},
   "source": [
    "## Interpretation:\n",
    "R-squared: 0.324\n",
    "\n",
    "Significant Predictors:\n",
    "Gender and race still show significance.\n",
    "Interaction between gender and race (D2*D3) is not significant."
   ]
  },
  {
   "cell_type": "markdown",
   "metadata": {},
   "source": [
    "# Table 3.3"
   ]
  },
  {
   "cell_type": "code",
   "execution_count": 201,
   "metadata": {},
   "outputs": [],
   "source": [
    "table1_1= table1_1.rename(columns={\n",
    "    'D2(Gender)':'D2',\n",
    "    'D3(Race)':'D3',\n",
    "    'D4(Union)':'D4',\n",
    "    'education': 'ED',\n",
    "    'exper': 'EX',\n",
    "    'wage':'W'\n",
    "})"
   ]
  },
  {
   "cell_type": "code",
   "execution_count": 202,
   "metadata": {},
   "outputs": [],
   "source": [
    "table1_1['D2*ED'] = table1_1['D2']*table1_1['ED']\n",
    "table1_1['D2*EX'] = table1_1['D2']*table1_1['EX']\n",
    "table1_1['D3*ED'] = table1_1['D3']*table1_1['ED']\n",
    "table1_1['D3*EX'] = table1_1['D3']*table1_1['EX']\n",
    "table1_1['D4*ED'] = table1_1['D4']*table1_1['ED']\n",
    "table1_1['D4*EX'] = table1_1['D4']*table1_1['EX']"
   ]
  },
  {
   "cell_type": "code",
   "execution_count": 203,
   "metadata": {},
   "outputs": [
    {
     "data": {
      "text/plain": [
       "Index(['obs', 'W', 'female', 'nonwhite', 'union', 'ED', 'EX', 'age', 'wind',\n",
       "       'femalenonw', 'lnwage', 'D2', 'D3', 'D4', 'D2*D3(GenderRace)', 'D2*ED',\n",
       "       'D2*EX', 'D3*ED', 'D3*EX', 'D4*ED', 'D4*EX'],\n",
       "      dtype='object')"
      ]
     },
     "execution_count": 203,
     "metadata": {},
     "output_type": "execute_result"
    }
   ],
   "source": [
    "table1_1.columns"
   ]
  },
  {
   "cell_type": "code",
   "execution_count": 205,
   "metadata": {},
   "outputs": [],
   "source": [
    "x_t3_3 = table1_1[['D2', 'D3', 'D4','ED', 'EX','D2*ED','D2*EX', 'D3*ED', 'D3*EX', 'D4*ED', 'D4*EX']]\n",
    "y_t3_3 = table1_1['W']"
   ]
  },
  {
   "cell_type": "code",
   "execution_count": 206,
   "metadata": {},
   "outputs": [
    {
     "name": "stdout",
     "output_type": "stream",
     "text": [
      "                            OLS Regression Results                            \n",
      "==============================================================================\n",
      "Dep. Variable:                      W   R-squared:                       0.333\n",
      "Model:                            OLS   Adj. R-squared:                  0.327\n",
      "Method:                 Least Squares   F-statistic:                     57.91\n",
      "Date:                Sun, 24 Nov 2024   Prob (F-statistic):          3.56e-104\n",
      "Time:                        21:09:11   Log-Likelihood:                -4231.3\n",
      "No. Observations:                1289   AIC:                             8487.\n",
      "Df Residuals:                    1277   BIC:                             8549.\n",
      "Df Model:                          11                                         \n",
      "Covariance Type:            nonrobust                                         \n",
      "==============================================================================\n",
      "                 coef    std err          t      P>|t|      [0.025      0.975]\n",
      "------------------------------------------------------------------------------\n",
      "const        -11.0913      1.422     -7.801      0.000     -13.881      -8.302\n",
      "D2             3.1742      1.966      1.614      0.107      -0.684       7.032\n",
      "D3             2.9091      2.780      1.046      0.296      -2.545       8.363\n",
      "D4             4.4542      2.973      1.498      0.134      -1.379      10.288\n",
      "ED             1.5871      0.094     16.917      0.000       1.403       1.771\n",
      "EX             0.2209      0.025      8.799      0.000       0.172       0.270\n",
      "D2*ED         -0.3369      0.132     -2.552      0.011      -0.596      -0.078\n",
      "D2*EX         -0.0961      0.032     -3.022      0.003      -0.159      -0.034\n",
      "D3*ED         -0.3219      0.195     -1.648      0.100      -0.705       0.061\n",
      "D3*EX         -0.0220      0.044     -0.497      0.619      -0.109       0.065\n",
      "D4*ED         -0.1983      0.191     -1.036      0.300      -0.574       0.177\n",
      "D4*EX         -0.0335      0.046     -0.726      0.468      -0.124       0.057\n",
      "==============================================================================\n",
      "Omnibus:                      519.014   Durbin-Watson:                   1.894\n",
      "Prob(Omnibus):                  0.000   Jarque-Bera (JB):             3665.697\n",
      "Skew:                           1.702   Prob(JB):                         0.00\n",
      "Kurtosis:                      10.527   Cond. No.                         496.\n",
      "==============================================================================\n",
      "\n",
      "Notes:\n",
      "[1] Standard Errors assume that the covariance matrix of the errors is correctly specified.\n"
     ]
    }
   ],
   "source": [
    "x_t3_3 = sm.add_constant(x_t3_3)\n",
    "model_t3_3 = sm.OLS(y_t3_3,x_t3_3).fit()\n",
    "print(model_t3_3.summary())"
   ]
  },
  {
   "cell_type": "markdown",
   "metadata": {},
   "source": [
    "## Interpretation:\n",
    "\n",
    "Education and experience have positive effects.\n",
    "Some interactions, such as D2*ED and D2*EX, are significant, indicating variations in wage by education and experience depending on gender."
   ]
  },
  {
   "cell_type": "markdown",
   "metadata": {},
   "source": [
    "# Table 3.4"
   ]
  },
  {
   "cell_type": "code",
   "execution_count": 207,
   "metadata": {},
   "outputs": [
    {
     "data": {
      "text/plain": [
       "Index(['obs', 'W', 'female', 'nonwhite', 'union', 'ED', 'EX', 'age', 'wind',\n",
       "       'femalenonw', 'lnwage', 'D2', 'D3', 'D4', 'D2*D3(GenderRace)', 'D2*ED',\n",
       "       'D2*EX', 'D3*ED', 'D3*EX', 'D4*ED', 'D4*EX'],\n",
       "      dtype='object')"
      ]
     },
     "execution_count": 207,
     "metadata": {},
     "output_type": "execute_result"
    }
   ],
   "source": [
    "table1_1.columns"
   ]
  },
  {
   "cell_type": "code",
   "execution_count": 208,
   "metadata": {},
   "outputs": [],
   "source": [
    "table1_1= table1_1.rename(columns={\n",
    "    'female':'FE',\n",
    "    'nonwhite':'NW',\n",
    "    'union':'UN'\n",
    "})"
   ]
  },
  {
   "cell_type": "code",
   "execution_count": 209,
   "metadata": {},
   "outputs": [],
   "source": [
    "table1_1['FE*ED'] = table1_1['FE']*table1_1['ED']\n",
    "table1_1['FE*EX'] = table1_1['FE']*table1_1['EX']\n",
    "table1_1['NW*ED'] = table1_1['NW']*table1_1['ED']"
   ]
  },
  {
   "cell_type": "code",
   "execution_count": 210,
   "metadata": {},
   "outputs": [],
   "source": [
    "x_t3_4 = table1_1[['FE','NW','UN','ED','EX','FE*ED','FE*EX','NW*ED']]\n",
    "y_t3_4 = table1_1['W']"
   ]
  },
  {
   "cell_type": "code",
   "execution_count": 211,
   "metadata": {},
   "outputs": [
    {
     "name": "stdout",
     "output_type": "stream",
     "text": [
      "                            OLS Regression Results                            \n",
      "==============================================================================\n",
      "Dep. Variable:                      W   R-squared:                       0.332\n",
      "Model:                            OLS   Adj. R-squared:                  0.328\n",
      "Method:                 Least Squares   F-statistic:                     79.52\n",
      "Date:                Sun, 24 Nov 2024   Prob (F-statistic):          1.17e-106\n",
      "Time:                        21:21:11   Log-Likelihood:                -4232.1\n",
      "No. Observations:                1289   AIC:                             8482.\n",
      "Df Residuals:                    1280   BIC:                             8529.\n",
      "Df Model:                           8                                         \n",
      "Covariance Type:            nonrobust                                         \n",
      "==============================================================================\n",
      "                 coef    std err          t      P>|t|      [0.025      0.975]\n",
      "------------------------------------------------------------------------------\n",
      "const        -10.6452      1.372     -7.760      0.000     -13.336      -7.954\n",
      "FE             3.2575      1.959      1.663      0.097      -0.586       7.101\n",
      "NW             2.6270      2.418      1.086      0.277      -2.116       7.370\n",
      "UN             1.0785      0.505      2.134      0.033       0.087       2.070\n",
      "ED             1.5658      0.092     17.054      0.000       1.386       1.746\n",
      "EX             0.2126      0.023      9.338      0.000       0.168       0.257\n",
      "FE*ED         -0.3469      0.131     -2.639      0.008      -0.605      -0.089\n",
      "FE*EX         -0.0949      0.032     -3.007      0.003      -0.157      -0.033\n",
      "NW*ED         -0.3294      0.187     -1.765      0.078      -0.695       0.037\n",
      "==============================================================================\n",
      "Omnibus:                      523.569   Durbin-Watson:                   1.889\n",
      "Prob(Omnibus):                  0.000   Jarque-Bera (JB):             3709.125\n",
      "Skew:                           1.719   Prob(JB):                         0.00\n",
      "Kurtosis:                      10.565   Cond. No.                         391.\n",
      "==============================================================================\n",
      "\n",
      "Notes:\n",
      "[1] Standard Errors assume that the covariance matrix of the errors is correctly specified.\n"
     ]
    }
   ],
   "source": [
    "x_t3_4 = sm.add_constant(x_t3_4)\n",
    "model_t3_4 = sm.OLS(y_t3_4,x_t3_4).fit()\n",
    "print(model_t3_4.summary())"
   ]
  },
  {
   "cell_type": "markdown",
   "metadata": {},
   "source": [
    "## Interpretation:\n",
    "\n",
    "Gender (FE), education (ED), and experience (EX).\n",
    "Some interaction terms (FE*ED, FE*EX) show negative significance, suggesting gender affects the wage outcomes based on education and experience levels."
   ]
  },
  {
   "cell_type": "markdown",
   "metadata": {},
   "source": [
    "# Table 3.5"
   ]
  },
  {
   "cell_type": "code",
   "execution_count": 212,
   "metadata": {},
   "outputs": [],
   "source": [
    "table1_1['L W']= np.log(table1_1['W'])"
   ]
  },
  {
   "cell_type": "code",
   "execution_count": 213,
   "metadata": {},
   "outputs": [],
   "source": [
    "x_t3_5 = table1_1[['D2','D3','D4','ED','EX']]\n",
    "y_t3_5 = table1_1['L W']"
   ]
  },
  {
   "cell_type": "code",
   "execution_count": 214,
   "metadata": {},
   "outputs": [
    {
     "name": "stdout",
     "output_type": "stream",
     "text": [
      "                            OLS Regression Results                            \n",
      "==============================================================================\n",
      "Dep. Variable:                    L W   R-squared:                       0.346\n",
      "Model:                            OLS   Adj. R-squared:                  0.343\n",
      "Method:                 Least Squares   F-statistic:                     135.5\n",
      "Date:                Sun, 24 Nov 2024   Prob (F-statistic):          1.74e-115\n",
      "Time:                        21:28:07   Log-Likelihood:                -867.07\n",
      "No. Observations:                1289   AIC:                             1746.\n",
      "Df Residuals:                    1283   BIC:                             1777.\n",
      "Df Model:                           5                                         \n",
      "Covariance Type:            nonrobust                                         \n",
      "==============================================================================\n",
      "                 coef    std err          t      P>|t|      [0.025      0.975]\n",
      "------------------------------------------------------------------------------\n",
      "const          0.9055      0.074     12.208      0.000       0.760       1.051\n",
      "D2            -0.2492      0.027     -9.358      0.000      -0.301      -0.197\n",
      "D3            -0.1335      0.037     -3.591      0.000      -0.206      -0.061\n",
      "D4             0.1802      0.037      4.876      0.000       0.108       0.253\n",
      "ED             0.0999      0.005     20.752      0.000       0.090       0.109\n",
      "EX             0.0128      0.001     10.889      0.000       0.010       0.015\n",
      "==============================================================================\n",
      "Omnibus:                       95.022   Durbin-Watson:                   1.943\n",
      "Prob(Omnibus):                  0.000   Jarque-Bera (JB):              256.270\n",
      "Skew:                          -0.387   Prob(JB):                     2.25e-56\n",
      "Kurtosis:                       5.042   Cond. No.                         141.\n",
      "==============================================================================\n",
      "\n",
      "Notes:\n",
      "[1] Standard Errors assume that the covariance matrix of the errors is correctly specified.\n"
     ]
    }
   ],
   "source": [
    "x_t3_5 = sm.add_constant(x_t3_5)\n",
    "model_t3_5 = sm.OLS(y_t3_5,x_t3_5).fit()\n",
    "print(model_t3_5.summary())"
   ]
  },
  {
   "cell_type": "markdown",
   "metadata": {},
   "source": [
    "## Interpretation:\n",
    "\n",
    "Dep. Variable: L W\n",
    "R-squared: 0.346, indicating that 34.6% of the variance in L W is explained by the independent variables.\n",
    "F-statistic: 135.5, with a p-value of 1.74e-115, showing a strong model fit.\n",
    "Key Variables:\n",
    "D2 (coefficient: -0.2492, p-value < 0.0001)\n",
    "D3 (coefficient: -0.1335, p-value < 0.0001)\n",
    "D4 (coefficient: 0.1802, p-value < 0.0001)\n",
    "Education (ED) and Experience (EX) also show significant coefficients with p-values < 0.0001."
   ]
  },
  {
   "cell_type": "markdown",
   "metadata": {},
   "source": [
    "# Figure 3.1"
   ]
  },
  {
   "cell_type": "code",
   "execution_count": null,
   "metadata": {},
   "outputs": [],
   "source": []
  },
  {
   "cell_type": "code",
   "execution_count": 310,
   "metadata": {},
   "outputs": [
    {
     "data": {
      "text/plain": [
       "<seaborn.axisgrid.FacetGrid at 0x2589a1edc70>"
      ]
     },
     "execution_count": 310,
     "metadata": {},
     "output_type": "execute_result"
    },
    {
     "data": {
      "image/png": "[encoded data removed]",
      "text/plain": [
       "<Figure size 500x500 with 1 Axes>"
      ]
     },
     "metadata": {},
     "output_type": "display_data"
    }
   ],
   "source": [
    "import seaborn as sns\n",
    "sns.displot(table1_1['W'])"
   ]
  },
  {
   "cell_type": "markdown",
   "metadata": {},
   "source": [
    "# Figure 3.2"
   ]
  },
  {
   "cell_type": "code",
   "execution_count": 314,
   "metadata": {},
   "outputs": [
    {
     "data": {
      "text/plain": [
       "<seaborn.axisgrid.FacetGrid at 0x2589c66d850>"
      ]
     },
     "execution_count": 314,
     "metadata": {},
     "output_type": "execute_result"
    },
    {
     "data": {
      "image/png": "[encoded data removed]",
      "text/plain": [
       "<Figure size 500x500 with 1 Axes>"
      ]
     },
     "metadata": {},
     "output_type": "display_data"
    }
   ],
   "source": [
    "sns.displot(table1_1['L W'])"
   ]
  },
  {
   "cell_type": "markdown",
   "metadata": {},
   "source": [
    "# Table 3.7"
   ]
  },
  {
   "cell_type": "code",
   "execution_count": 216,
   "metadata": {},
   "outputs": [],
   "source": [
    "table3_6 = pd.read_excel(r\"C:\\Users\\lenovo\\Downloads\\eco\\Excel_files\\Table3_6.xls\")"
   ]
  },
  {
   "cell_type": "code",
   "execution_count": 217,
   "metadata": {},
   "outputs": [
    {
     "data": {
      "text/plain": [
       "Index(['obs', 'gpi', 'gps', 'recession81', 'gpsrec81'], dtype='object')"
      ]
     },
     "execution_count": 217,
     "metadata": {},
     "output_type": "execute_result"
    }
   ],
   "source": [
    "table3_6.columns"
   ]
  },
  {
   "cell_type": "code",
   "execution_count": 218,
   "metadata": {},
   "outputs": [],
   "source": [
    "x_t3_7 = table3_6['gps']\n",
    "y_t3_7 = table3_6['gpi']"
   ]
  },
  {
   "cell_type": "code",
   "execution_count": 219,
   "metadata": {},
   "outputs": [
    {
     "name": "stdout",
     "output_type": "stream",
     "text": [
      "                            OLS Regression Results                            \n",
      "==============================================================================\n",
      "Dep. Variable:                    gpi   R-squared:                       0.969\n",
      "Model:                            OLS   Adj. R-squared:                  0.968\n",
      "Method:                 Least Squares   F-statistic:                     1450.\n",
      "Date:                Sun, 24 Nov 2024   Prob (F-statistic):           5.57e-37\n",
      "Time:                        22:05:57   Log-Likelihood:                -300.95\n",
      "No. Observations:                  49   AIC:                             605.9\n",
      "Df Residuals:                      47   BIC:                             609.7\n",
      "Df Model:                           1                                         \n",
      "Covariance Type:            nonrobust                                         \n",
      "==============================================================================\n",
      "                 coef    std err          t      P>|t|      [0.025      0.975]\n",
      "------------------------------------------------------------------------------\n",
      "const        -78.7211     27.485     -2.864      0.006    -134.013     -23.429\n",
      "gps            1.1074      0.029     38.081      0.000       1.049       1.166\n",
      "==============================================================================\n",
      "Omnibus:                        2.780   Durbin-Watson:                   0.373\n",
      "Prob(Omnibus):                  0.249   Jarque-Bera (JB):                2.146\n",
      "Skew:                           0.035   Prob(JB):                        0.342\n",
      "Kurtosis:                       4.023   Cond. No.                     1.58e+03\n",
      "==============================================================================\n",
      "\n",
      "Notes:\n",
      "[1] Standard Errors assume that the covariance matrix of the errors is correctly specified.\n",
      "[2] The condition number is large, 1.58e+03. This might indicate that there are\n",
      "strong multicollinearity or other numerical problems.\n"
     ]
    }
   ],
   "source": [
    "x_t3_7 = sm.add_constant(x_t3_7)\n",
    "model_t3_7 = sm.OLS(y_t3_7,x_t3_7).fit()\n",
    "print(model_t3_7.summary())"
   ]
  },
  {
   "cell_type": "markdown",
   "metadata": {},
   "source": [
    "## Interpretation:\n",
    "R-squared: 0.969, indicating a high model fit.\n",
    "    \n",
    "\n",
    "gps (coefficient: 1.1074, p-value < 0.0001)\n",
    "\n",
    "Constant (coefficient: -78.7211, p-value 0.006).\n",
    "\n",
    "The model explains a significant amount of variance in gpi based on gps."
   ]
  },
  {
   "cell_type": "markdown",
   "metadata": {},
   "source": [
    "# Table 3.8"
   ]
  },
  {
   "cell_type": "code",
   "execution_count": 224,
   "metadata": {},
   "outputs": [],
   "source": [
    "x_t3_8 = table3_6[['gps','recession81']]\n",
    "y_t3_8 = table3_6['gpi']"
   ]
  },
  {
   "cell_type": "code",
   "execution_count": 227,
   "metadata": {},
   "outputs": [
    {
     "name": "stdout",
     "output_type": "stream",
     "text": [
      "                            OLS Regression Results                            \n",
      "==============================================================================\n",
      "Dep. Variable:                    gpi   R-squared:                       0.978\n",
      "Model:                            OLS   Adj. R-squared:                  0.977\n",
      "Method:                 Least Squares   F-statistic:                     1034.\n",
      "Date:                Sun, 24 Nov 2024   Prob (F-statistic):           5.89e-39\n",
      "Time:                        22:28:20   Log-Likelihood:                -291.98\n",
      "No. Observations:                  49   AIC:                             590.0\n",
      "Df Residuals:                      46   BIC:                             595.6\n",
      "Df Model:                           2                                         \n",
      "Covariance Type:            nonrobust                                         \n",
      "===============================================================================\n",
      "                  coef    std err          t      P>|t|      [0.025      0.975]\n",
      "-------------------------------------------------------------------------------\n",
      "const         -83.4860     23.159     -3.605      0.001    -130.103     -36.869\n",
      "gps             1.2887      0.047     27.380      0.000       1.194       1.383\n",
      "recession81  -240.7879     53.397     -4.509      0.000    -348.270    -133.306\n",
      "==============================================================================\n",
      "Omnibus:                       12.613   Durbin-Watson:                   0.683\n",
      "Prob(Omnibus):                  0.002   Jarque-Bera (JB):               22.786\n",
      "Skew:                           0.661   Prob(JB):                     1.13e-05\n",
      "Kurtosis:                       6.068   Cond. No.                     3.65e+03\n",
      "==============================================================================\n",
      "\n",
      "Notes:\n",
      "[1] Standard Errors assume that the covariance matrix of the errors is correctly specified.\n",
      "[2] The condition number is large, 3.65e+03. This might indicate that there are\n",
      "strong multicollinearity or other numerical problems.\n"
     ]
    }
   ],
   "source": [
    "x_t3_8 = sm.add_constant(x_t3_8)\n",
    "model_t3_8 = sm.OLS(y_t3_8,x_t3_8).fit()\n",
    "print(model_t3_8.summary())\n"
   ]
  },
  {
   "cell_type": "markdown",
   "metadata": {},
   "source": [
    "## Interpretation:\n",
    "gps (coefficient: 1.2887, p-value < 0.0001)\n",
    "\n",
    "recession81 (coefficient: -240.7879, p-value < 0.0001).\n",
    "\n",
    "Recession in 1981 appears to have a significant negative impact on gpi."
   ]
  },
  {
   "cell_type": "markdown",
   "metadata": {},
   "source": [
    "# Table 3.9"
   ]
  },
  {
   "cell_type": "code",
   "execution_count": 233,
   "metadata": {},
   "outputs": [],
   "source": [
    "table3_6['DUMMY81'] = pd.get_dummies(table3_6['recession81'], drop_first=True).astype(np.int64)\n",
    "table3_6['GPS*DUMMY81'] = table3_6['gps']*table3_6['DUMMY81']"
   ]
  },
  {
   "cell_type": "code",
   "execution_count": 234,
   "metadata": {},
   "outputs": [],
   "source": [
    "x_t3_9 = table3_6[['gps','DUMMY81', 'GPS*DUMMY81']]\n",
    "y_t3_9 = table3_6['gpi']"
   ]
  },
  {
   "cell_type": "code",
   "execution_count": 235,
   "metadata": {},
   "outputs": [
    {
     "name": "stdout",
     "output_type": "stream",
     "text": [
      "                            OLS Regression Results                            \n",
      "==============================================================================\n",
      "Dep. Variable:                    gpi   R-squared:                       0.981\n",
      "Model:                            OLS   Adj. R-squared:                  0.979\n",
      "Method:                 Least Squares   F-statistic:                     762.5\n",
      "Date:                Sun, 24 Nov 2024   Prob (F-statistic):           1.42e-38\n",
      "Time:                        22:34:25   Log-Likelihood:                -289.03\n",
      "No. Observations:                  49   AIC:                             586.1\n",
      "Df Residuals:                      45   BIC:                             593.6\n",
      "Df Model:                           3                                         \n",
      "Covariance Type:            nonrobust                                         \n",
      "===============================================================================\n",
      "                  coef    std err          t      P>|t|      [0.025      0.975]\n",
      "-------------------------------------------------------------------------------\n",
      "const          -7.7799     38.450     -0.202      0.841     -85.221      69.662\n",
      "gps             0.9511      0.147      6.450      0.000       0.654       1.248\n",
      "DUMMY81      -357.4587     70.286     -5.086      0.000    -499.023    -215.895\n",
      "GPS*DUMMY81     0.3719      0.155      2.403      0.020       0.060       0.684\n",
      "==============================================================================\n",
      "Omnibus:                       16.892   Durbin-Watson:                   0.698\n",
      "Prob(Omnibus):                  0.000   Jarque-Bera (JB):               41.089\n",
      "Skew:                           0.799   Prob(JB):                     1.20e-09\n",
      "Kurtosis:                       7.192   Cond. No.                     7.43e+03\n",
      "==============================================================================\n",
      "\n",
      "Notes:\n",
      "[1] Standard Errors assume that the covariance matrix of the errors is correctly specified.\n",
      "[2] The condition number is large, 7.43e+03. This might indicate that there are\n",
      "strong multicollinearity or other numerical problems.\n"
     ]
    }
   ],
   "source": [
    "x_t3_9 = sm.add_constant(x_t3_9)\n",
    "model_t3_9 = sm.OLS(y_t3_9,x_t3_9).fit()\n",
    "print(model_t3_9.summary())"
   ]
  },
  {
   "cell_type": "markdown",
   "metadata": {},
   "source": [
    "## Interpretation:\n",
    "gps (coefficient: 0.9511, p-value < 0.0001)\n",
    "\n",
    "DUMMY81 (coefficient: -357.4587, p-value < 0.0001).\n",
    "\n",
    "The interaction term GPS*DUMMY81 is significant (p-value 0.020)."
   ]
  },
  {
   "cell_type": "markdown",
   "metadata": {},
   "source": [
    "# Table 3.11"
   ]
  },
  {
   "cell_type": "code",
   "execution_count": 236,
   "metadata": {},
   "outputs": [],
   "source": [
    "table3_10 = pd.read_excel(r\"C:\\Users\\lenovo\\Downloads\\eco\\Excel_files\\Table3_10.xls\")"
   ]
  },
  {
   "cell_type": "code",
   "execution_count": 237,
   "metadata": {},
   "outputs": [
    {
     "data": {
      "text/plain": [
       "Index(['obs', 'sales', 'rpdi', 'conf', 'd2', 'd3', 'd4', 'lnsales', 'yearq',\n",
       "       '_Id2_1', '_Id2Xrpdi_1', '_Id3_1', '_Id3Xrpdi_1', '_Id4_1',\n",
       "       '_Id4Xrpdi_1', '_Id2Xconf_1', '_Id3Xconf_1', '_Id4Xconf_1', 'trend'],\n",
       "      dtype='object')"
      ]
     },
     "execution_count": 237,
     "metadata": {},
     "output_type": "execute_result"
    }
   ],
   "source": [
    "table3_10.columns"
   ]
  },
  {
   "cell_type": "code",
   "execution_count": 245,
   "metadata": {},
   "outputs": [],
   "source": [
    "x_t3_11 = table3_10[['d2','d3','d4']]\n",
    "y_t3_11 = table3_10['sales']"
   ]
  },
  {
   "cell_type": "code",
   "execution_count": 248,
   "metadata": {},
   "outputs": [
    {
     "name": "stdout",
     "output_type": "stream",
     "text": [
      "                            OLS Regression Results                            \n",
      "==============================================================================\n",
      "Dep. Variable:                  sales   R-squared:                       0.823\n",
      "Model:                            OLS   Adj. R-squared:                  0.801\n",
      "Method:                 Least Squares   F-statistic:                     37.32\n",
      "Date:                Mon, 25 Nov 2024   Prob (F-statistic):           3.37e-09\n",
      "Time:                        13:50:21   Log-Likelihood:                -103.47\n",
      "No. Observations:                  28   AIC:                             214.9\n",
      "Df Residuals:                      24   BIC:                             220.3\n",
      "Df Model:                           3                                         \n",
      "Covariance Type:            nonrobust                                         \n",
      "==============================================================================\n",
      "                 coef    std err          t      P>|t|      [0.025      0.975]\n",
      "------------------------------------------------------------------------------\n",
      "const         73.1834      3.977     18.399      0.000      64.974      81.393\n",
      "d2            14.6923      5.625      2.612      0.015       3.083      26.302\n",
      "d3            27.9647      5.625      4.971      0.000      16.355      39.574\n",
      "d4            57.1147      5.625     10.154      0.000      45.505      68.724\n",
      "==============================================================================\n",
      "Omnibus:                        0.636   Durbin-Watson:                   1.024\n",
      "Prob(Omnibus):                  0.727   Jarque-Bera (JB):                0.550\n",
      "Skew:                          -0.313   Prob(JB):                        0.759\n",
      "Kurtosis:                       2.719   Cond. No.                         4.79\n",
      "==============================================================================\n",
      "\n",
      "Notes:\n",
      "[1] Standard Errors assume that the covariance matrix of the errors is correctly specified.\n"
     ]
    }
   ],
   "source": [
    "x_t3_11 = sm.add_constant(x_t3_11)\n",
    "model_t3_11 = sm.OLS(y_t3_11,x_t3_11).fit()\n",
    "print(model_t3_11.summary())"
   ]
  },
  {
   "cell_type": "markdown",
   "metadata": {},
   "source": [
    "## Interpretation:\n",
    "Dep. Variable: sales\n",
    "    \n",
    "R-squared: 0.823, indicating that 82.3% of variance in sales is explained by the model.\n",
    "\n",
    "\n",
    "d2 (coefficient: 14.6923, p-value 0.015)\n",
    "\n",
    "d3 (coefficient: 27.9647, p-value < 0.0001)\n",
    "\n",
    "d4 (coefficient: 57.1147, p-value < 0.0001).\n",
    "\n",
    "All of these independent variables have significant positive impacts on sales."
   ]
  },
  {
   "cell_type": "markdown",
   "metadata": {},
   "source": [
    "# Table 3.13"
   ]
  },
  {
   "cell_type": "code",
   "execution_count": 249,
   "metadata": {},
   "outputs": [],
   "source": [
    "x_t3_13 = table3_10[['rpdi', 'conf','d2','d3','d4']]\n",
    "y_t3_13 = table3_10['sales']"
   ]
  },
  {
   "cell_type": "code",
   "execution_count": 250,
   "metadata": {},
   "outputs": [
    {
     "name": "stdout",
     "output_type": "stream",
     "text": [
      "                            OLS Regression Results                            \n",
      "==============================================================================\n",
      "Dep. Variable:                  sales   R-squared:                       0.905\n",
      "Model:                            OLS   Adj. R-squared:                  0.884\n",
      "Method:                 Least Squares   F-statistic:                     42.10\n",
      "Date:                Mon, 25 Nov 2024   Prob (F-statistic):           1.53e-10\n",
      "Time:                        13:53:00   Log-Likelihood:                -94.745\n",
      "No. Observations:                  28   AIC:                             201.5\n",
      "Df Residuals:                      22   BIC:                             209.5\n",
      "Df Model:                           5                                         \n",
      "Covariance Type:            nonrobust                                         \n",
      "==============================================================================\n",
      "                 coef    std err          t      P>|t|      [0.025      0.975]\n",
      "------------------------------------------------------------------------------\n",
      "const       -152.9293     52.591     -2.908      0.008    -261.997     -43.861\n",
      "rpdi           1.5989      0.370      4.320      0.000       0.831       2.367\n",
      "conf           0.2939      0.084      3.483      0.002       0.119       0.469\n",
      "d2            15.0452      4.315      3.486      0.002       6.096      23.995\n",
      "d3            26.0025      4.325      6.012      0.000      17.032      34.972\n",
      "d4            60.8723      4.427     13.749      0.000      51.690      70.054\n",
      "==============================================================================\n",
      "Omnibus:                        1.745   Durbin-Watson:                   1.315\n",
      "Prob(Omnibus):                  0.418   Jarque-Bera (JB):                1.175\n",
      "Skew:                          -0.217   Prob(JB):                        0.556\n",
      "Kurtosis:                       2.095   Cond. No.                     9.61e+03\n",
      "==============================================================================\n",
      "\n",
      "Notes:\n",
      "[1] Standard Errors assume that the covariance matrix of the errors is correctly specified.\n",
      "[2] The condition number is large, 9.61e+03. This might indicate that there are\n",
      "strong multicollinearity or other numerical problems.\n"
     ]
    }
   ],
   "source": [
    "x_t3_13 = sm.add_constant(x_t3_13)\n",
    "model_t3_13 = sm.OLS(y_t3_13,x_t3_13).fit()\n",
    "print(model_t3_13.summary())"
   ]
  },
  {
   "cell_type": "markdown",
   "metadata": {},
   "source": [
    "## Interpretation:\n",
    "\n",
    "R-squared: 0.905 (Very good fit, explaining 90.5% of the variance in sales).\n",
    "\n",
    "Adjusted R-squared: 0.884 (Adjusted for the number of predictors).\n",
    "\n",
    "\n",
    "Significant predictors: rpdi, conf, d2, d3, and d4 all have p-values less than 0.05, suggesting they are significant factors in explaining sales."
   ]
  },
  {
   "cell_type": "markdown",
   "metadata": {},
   "source": [
    "# Table 3.15"
   ]
  },
  {
   "cell_type": "code",
   "execution_count": 251,
   "metadata": {},
   "outputs": [],
   "source": [
    "table3_10['D2*RPDI']= table3_10['d2']*table3_10['rpdi']\n",
    "table3_10['D3*RPDI']= table3_10['d3']*table3_10['rpdi']\n",
    "table3_10['D4*RPDI']= table3_10['d4']*table3_10['rpdi']\n",
    "table3_10['D2*CONF']= table3_10['d2']*table3_10['conf']\n",
    "table3_10['D3*CONF']= table3_10['d3']*table3_10['conf']\n",
    "table3_10['D4*CONF']= table3_10['d4']*table3_10['conf']"
   ]
  },
  {
   "cell_type": "code",
   "execution_count": 252,
   "metadata": {},
   "outputs": [
    {
     "data": {
      "text/plain": [
       "Index(['obs', 'sales', 'rpdi', 'conf', 'd2', 'd3', 'd4', 'lnsales', 'yearq',\n",
       "       '_Id2_1', '_Id2Xrpdi_1', '_Id3_1', '_Id3Xrpdi_1', '_Id4_1',\n",
       "       '_Id4Xrpdi_1', '_Id2Xconf_1', '_Id3Xconf_1', '_Id4Xconf_1', 'trend',\n",
       "       'D2*RPDI', 'D3*RPDI', 'D4*RPDI', 'D2*CONF', 'D3*CONF', 'D4*CONF'],\n",
       "      dtype='object')"
      ]
     },
     "execution_count": 252,
     "metadata": {},
     "output_type": "execute_result"
    }
   ],
   "source": [
    "table3_10.columns"
   ]
  },
  {
   "cell_type": "code",
   "execution_count": 254,
   "metadata": {},
   "outputs": [],
   "source": [
    "x_t3_15 = table3_10[['d2', 'd3', 'd4','rpdi', 'conf', 'D2*RPDI', 'D3*RPDI', 'D4*RPDI', 'D2*CONF', 'D3*CONF', 'D4*CONF']]\n",
    "y_t3_15 = table3_10['sales']"
   ]
  },
  {
   "cell_type": "code",
   "execution_count": 255,
   "metadata": {},
   "outputs": [
    {
     "name": "stdout",
     "output_type": "stream",
     "text": [
      "                            OLS Regression Results                            \n",
      "==============================================================================\n",
      "Dep. Variable:                  sales   R-squared:                       0.929\n",
      "Model:                            OLS   Adj. R-squared:                  0.881\n",
      "Method:                 Least Squares   F-statistic:                     19.12\n",
      "Date:                Mon, 25 Nov 2024   Prob (F-statistic):           3.78e-07\n",
      "Time:                        14:06:57   Log-Likelihood:                -90.662\n",
      "No. Observations:                  28   AIC:                             205.3\n",
      "Df Residuals:                      16   BIC:                             221.3\n",
      "Df Model:                          11                                         \n",
      "Covariance Type:            nonrobust                                         \n",
      "==============================================================================\n",
      "                 coef    std err          t      P>|t|      [0.025      0.975]\n",
      "------------------------------------------------------------------------------\n",
      "const       -191.5847    107.981     -1.774      0.095    -420.495      37.325\n",
      "d2           196.7020    221.263      0.889      0.387    -272.355     665.759\n",
      "d3           123.1388    163.440      0.753      0.462    -223.338     469.616\n",
      "d4            50.9646    134.788      0.378      0.710    -234.774     336.703\n",
      "rpdi           2.0498      0.800      2.563      0.021       0.354       3.745\n",
      "conf           0.2809      0.157      1.791      0.092      -0.052       0.614\n",
      "D2*RPDI       -1.1106      1.404     -0.791      0.440      -4.087       1.866\n",
      "D3*RPDI       -1.2181      1.134     -1.074      0.299      -3.622       1.186\n",
      "D4*RPDI       -0.0499      1.014     -0.049      0.961      -2.200       2.100\n",
      "D2*CONF       -0.2948      0.382     -0.772      0.451      -1.104       0.515\n",
      "D3*CONF        0.0652      0.260      0.251      0.805      -0.486       0.616\n",
      "D4*CONF        0.0579      0.201      0.288      0.777      -0.368       0.484\n",
      "==============================================================================\n",
      "Omnibus:                        0.461   Durbin-Watson:                   1.074\n",
      "Prob(Omnibus):                  0.794   Jarque-Bera (JB):                0.487\n",
      "Skew:                           0.269   Prob(JB):                        0.784\n",
      "Kurtosis:                       2.642   Cond. No.                     5.08e+04\n",
      "==============================================================================\n",
      "\n",
      "Notes:\n",
      "[1] Standard Errors assume that the covariance matrix of the errors is correctly specified.\n",
      "[2] The condition number is large, 5.08e+04. This might indicate that there are\n",
      "strong multicollinearity or other numerical problems.\n"
     ]
    }
   ],
   "source": [
    "x_t3_15 = sm.add_constant(x_t3_15)\n",
    "model_t3_15 = sm.OLS(y_t3_15,x_t3_15).fit()\n",
    "print(model_t3_15.summary())"
   ]
  },
  {
   "cell_type": "markdown",
   "metadata": {},
   "source": [
    "## Interpretation:\n",
    "R-squared: 0.929 (Improved fit compared to Table 3.13).\n",
    "Adjusted R-squared: 0.881.\n",
    "F-statistic: 19.12 (Still high but lower than in Table 3.13).\n",
    "Significant predictors: rpdi, conf, and some interaction terms (such as D2xRPDI) have p-values < 0.05, while others (like D3xCONF) are not significant."
   ]
  },
  {
   "cell_type": "markdown",
   "metadata": {},
   "source": [
    "# Table 4.3\n"
   ]
  },
  {
   "cell_type": "code",
   "execution_count": 256,
   "metadata": {},
   "outputs": [],
   "source": [
    "table4_0 = pd.read_excel(r\"C:\\Users\\lenovo\\Downloads\\eco\\Excel_files\\Table4_0.xls\")"
   ]
  },
  {
   "cell_type": "code",
   "execution_count": 257,
   "metadata": {},
   "outputs": [
    {
     "data": {
      "text/plain": [
       "Index(['taxableinc', 'federaltax', 'hsiblings', 'hfathereduc', 'hmothereduc',\n",
       "       'siblings', 'lfp', 'hours', 'kidsl6', 'kids618', 'age', 'educ', 'wage',\n",
       "       'wage76', 'hhours', 'hage', 'heduc', 'hwage', 'faminc', 'mtr',\n",
       "       'mothereduc', 'fathereduc', 'unemployment', 'largecity', 'exper'],\n",
       "      dtype='object')"
      ]
     },
     "execution_count": 257,
     "metadata": {},
     "output_type": "execute_result"
    }
   ],
   "source": [
    "table4_0.columns"
   ]
  },
  {
   "cell_type": "code",
   "execution_count": 266,
   "metadata": {},
   "outputs": [],
   "source": [
    "x_t4_3 = table4_0[['age','educ','exper','faminc','fathereduc','hage','heduc', 'hhours', 'hwage','kidsl6', 'kids618','wage','mothereduc','mtr','unemployment']]\n",
    "y_t4_3 = table4_0['hours']"
   ]
  },
  {
   "cell_type": "code",
   "execution_count": 267,
   "metadata": {},
   "outputs": [
    {
     "name": "stdout",
     "output_type": "stream",
     "text": [
      "                            OLS Regression Results                            \n",
      "==============================================================================\n",
      "Dep. Variable:                  hours   R-squared:                       0.434\n",
      "Model:                            OLS   Adj. R-squared:                  0.423\n",
      "Method:                 Least Squares   F-statistic:                     37.72\n",
      "Date:                Tue, 26 Nov 2024   Prob (F-statistic):           8.32e-81\n",
      "Time:                        21:16:13   Log-Likelihood:                -5951.3\n",
      "No. Observations:                 753   AIC:                         1.193e+04\n",
      "Df Residuals:                     737   BIC:                         1.201e+04\n",
      "Df Model:                          15                                         \n",
      "Covariance Type:            nonrobust                                         \n",
      "================================================================================\n",
      "                   coef    std err          t      P>|t|      [0.025      0.975]\n",
      "--------------------------------------------------------------------------------\n",
      "const         5805.4722    684.344      8.483      0.000    4461.976    7148.968\n",
      "age            -24.0044      6.859     -3.500      0.000     -37.470     -10.539\n",
      "educ           -13.7761     15.289     -0.901      0.368     -43.792      16.240\n",
      "exper           34.9539      3.456     10.113      0.000      28.168      41.739\n",
      "faminc           0.0157      0.005      3.375      0.001       0.007       0.025\n",
      "fathereduc      -4.8207      8.673     -0.556      0.579     -21.848      12.206\n",
      "hage            -5.0282      6.670     -0.754      0.451     -18.123       8.066\n",
      "heduc          -11.6952     11.012     -1.062      0.289     -33.314       9.923\n",
      "hhours          -0.3389      0.051     -6.636      0.000      -0.439      -0.239\n",
      "hwage         -107.3374     10.916     -9.833      0.000    -128.768     -85.907\n",
      "kidsl6        -322.7169     53.454     -6.037      0.000    -427.657    -217.777\n",
      "kids618         -4.0422     21.495     -0.188      0.851     -46.240      38.156\n",
      "wage            51.6768      8.714      5.930      0.000      34.569      68.785\n",
      "mothereduc       9.8422      9.196      1.070      0.285      -8.211      27.895\n",
      "mtr          -3956.7685    721.539     -5.484      0.000   -5373.284   -2540.253\n",
      "unemployment    -7.6866      7.979     -0.963      0.336     -23.351       7.978\n",
      "==============================================================================\n",
      "Omnibus:                      146.957   Durbin-Watson:                   1.734\n",
      "Prob(Omnibus):                  0.000   Jarque-Bera (JB):              407.983\n",
      "Skew:                           0.976   Prob(JB):                     2.56e-89\n",
      "Kurtosis:                       6.032   Cond. No.                     1.06e+06\n",
      "==============================================================================\n",
      "\n",
      "Notes:\n",
      "[1] Standard Errors assume that the covariance matrix of the errors is correctly specified.\n",
      "[2] The condition number is large, 1.06e+06. This might indicate that there are\n",
      "strong multicollinearity or other numerical problems.\n"
     ]
    }
   ],
   "source": [
    "x_t4_3 = sm.add_constant(x_t4_3)\n",
    "model_t4_3 = sm.OLS(y_t4_3,x_t4_3).fit()\n",
    "print(model_t4_3.summary())"
   ]
  },
  {
   "cell_type": "markdown",
   "metadata": {},
   "source": [
    "## Interpretation:\n",
    "R-squared: 0.434 (Moderate fit, explaining 43.4% of the variance in hours worked).\n",
    "    \n",
    "Adjusted R-squared: 0.423.\n",
    "    \n",
    "F-statistic: 37.72 (Statistically significant model).\n",
    "    \n",
    "Significant predictors: age, exper, faminc, hhours, hwage, kidsl6, wage, and mtr all have p-values < 0.05."
   ]
  },
  {
   "cell_type": "markdown",
   "metadata": {},
   "source": [
    "# Table 4.4"
   ]
  },
  {
   "cell_type": "code",
   "execution_count": 269,
   "metadata": {},
   "outputs": [],
   "source": [
    "x_t4_4 = table4_0[['age','educ','exper','faminc','fathereduc','hage','heduc', 'hhours', 'hwage','kidsl6', 'kids618','wage','mothereduc','mtr','unemployment']]"
   ]
  },
  {
   "cell_type": "code",
   "execution_count": 270,
   "metadata": {},
   "outputs": [],
   "source": [
    "x_t4_4 = sm.add_constant(x_t4_4)"
   ]
  },
  {
   "cell_type": "code",
   "execution_count": 271,
   "metadata": {},
   "outputs": [],
   "source": [
    "vif_data = pd.DataFrame()\n",
    "vif_data[\"Feature\"] = x_t4_4.columns\n",
    "vif_data[\"VIF\"] = [variance_inflation_factor(x_t4_4.values, i) for i in range(x_t4_4.shape[1])]"
   ]
  },
  {
   "cell_type": "code",
   "execution_count": 272,
   "metadata": {},
   "outputs": [
    {
     "name": "stdout",
     "output_type": "stream",
     "text": [
      "         Feature         VIF\n",
      "0          const  804.753827\n",
      "14           mtr    6.228490\n",
      "4         faminc    5.494674\n",
      "1            age    5.261441\n",
      "6           hage    4.958138\n",
      "9          hwage    3.659968\n",
      "2           educ    2.085816\n",
      "7          heduc    1.898938\n",
      "5     fathereduc    1.647353\n",
      "13    mothereduc    1.645617\n",
      "8         hhours    1.587629\n",
      "11       kids618    1.381228\n",
      "12          wage    1.369624\n",
      "10        kidsl6    1.346138\n",
      "3          exper    1.334806\n",
      "15  unemployment    1.060082\n"
     ]
    }
   ],
   "source": [
    "print(vif_data.sort_values(by=\"VIF\", ascending=False))\n"
   ]
  },
  {
   "cell_type": "markdown",
   "metadata": {},
   "source": [
    "## Interpretation:\n",
    "\n",
    "VIF values: All VIFs are below 10, indicating no severe multicollinearity among the predictors. The variable const has an extremely high VIF (804.75), likely due to the intercept being included in the model."
   ]
  },
  {
   "cell_type": "markdown",
   "metadata": {},
   "source": [
    "# Table 4.5"
   ]
  },
  {
   "cell_type": "code",
   "execution_count": 273,
   "metadata": {},
   "outputs": [],
   "source": [
    "x_t4_5 = table4_0[['age','educ','exper','faminc','hhours', 'hwage','kidsl6', 'wage','mtr','unemployment']]\n",
    "y_t4_5 = table4_0['hours']"
   ]
  },
  {
   "cell_type": "code",
   "execution_count": 274,
   "metadata": {},
   "outputs": [
    {
     "name": "stdout",
     "output_type": "stream",
     "text": [
      "                            OLS Regression Results                            \n",
      "==============================================================================\n",
      "Dep. Variable:                  hours   R-squared:                       0.432\n",
      "Model:                            OLS   Adj. R-squared:                  0.424\n",
      "Method:                 Least Squares   F-statistic:                     56.46\n",
      "Date:                Tue, 26 Nov 2024   Prob (F-statistic):           1.93e-84\n",
      "Time:                        22:42:00   Log-Likelihood:                -5952.7\n",
      "No. Observations:                 753   AIC:                         1.193e+04\n",
      "Df Residuals:                     742   BIC:                         1.198e+04\n",
      "Df Model:                          10                                         \n",
      "Covariance Type:            nonrobust                                         \n",
      "================================================================================\n",
      "                   coef    std err          t      P>|t|      [0.025      0.975]\n",
      "--------------------------------------------------------------------------------\n",
      "const         5720.7671    662.227      8.639      0.000    4420.705    7020.829\n",
      "age            -28.2336      3.566     -7.917      0.000     -35.234     -21.233\n",
      "educ           -18.2840     12.239     -1.494      0.136     -42.312       5.744\n",
      "exper           35.1149      3.394     10.345      0.000      28.451      41.779\n",
      "faminc           0.0159      0.005      3.531      0.000       0.007       0.025\n",
      "hhours          -0.3462      0.050     -6.898      0.000      -0.445      -0.248\n",
      "hwage         -110.0438     10.665    -10.318      0.000    -130.981     -89.107\n",
      "kidsl6        -319.3502     52.311     -6.105      0.000    -422.046    -216.655\n",
      "wage            51.8856      8.657      5.993      0.000      34.890      68.881\n",
      "mtr          -3929.8309    685.046     -5.737      0.000   -5274.690   -2584.972\n",
      "unemployment    -7.7219      7.941     -0.972      0.331     -23.311       7.867\n",
      "==============================================================================\n",
      "Omnibus:                      144.821   Durbin-Watson:                   1.728\n",
      "Prob(Omnibus):                  0.000   Jarque-Bera (JB):              393.075\n",
      "Skew:                           0.970   Prob(JB):                     4.41e-86\n",
      "Kurtosis:                       5.960   Cond. No.                     1.02e+06\n",
      "==============================================================================\n",
      "\n",
      "Notes:\n",
      "[1] Standard Errors assume that the covariance matrix of the errors is correctly specified.\n",
      "[2] The condition number is large, 1.02e+06. This might indicate that there are\n",
      "strong multicollinearity or other numerical problems.\n"
     ]
    }
   ],
   "source": [
    "x_t4_5 = sm.add_constant(x_t4_5)\n",
    "model_t4_5 = sm.OLS(y_t4_5,x_t4_5).fit()\n",
    "print(model_t4_5.summary())"
   ]
  },
  {
   "cell_type": "markdown",
   "metadata": {},
   "source": [
    "## Interpretation:\n",
    "R-squared: 0.432 (Slightly better fit than Table 4.3).\n",
    "    \n",
    "Significant predictors: Similar to Table 4.3, with some slight differences in the coefficients."
   ]
  },
  {
   "cell_type": "markdown",
   "metadata": {},
   "source": [
    "# Table 4.6"
   ]
  },
  {
   "cell_type": "code",
   "execution_count": 275,
   "metadata": {},
   "outputs": [],
   "source": [
    "x_t4_6 = table4_0[['age','educ','exper','faminc','hhours', 'hwage','kidsl6', 'wage','mtr','unemployment']]"
   ]
  },
  {
   "cell_type": "code",
   "execution_count": 276,
   "metadata": {},
   "outputs": [],
   "source": [
    "x_t4_6 = sm.add_constant(x_t4_6)"
   ]
  },
  {
   "cell_type": "code",
   "execution_count": 278,
   "metadata": {},
   "outputs": [],
   "source": [
    "vif_tol_data = pd.DataFrame()\n",
    "vif_tol_data[\"Feature\"] = x_t4_6.columns\n",
    "vif_tol_data[\"VIF\"] = [variance_inflation_factor(x_t4_6.values, i) for i in range(x_t4_6.shape[1])]\n",
    "vif_tol_data[\"TOL=1/VIF\"]= 1/vif_tol_data['VIF']"
   ]
  },
  {
   "cell_type": "code",
   "execution_count": 279,
   "metadata": {},
   "outputs": [
    {
     "name": "stdout",
     "output_type": "stream",
     "text": [
      "         Feature         VIF  TOL=1/VIF\n",
      "0          const  755.771451   0.001323\n",
      "9            mtr    5.630740   0.177597\n",
      "4         faminc    5.199919   0.192311\n",
      "6          hwage    3.503601   0.285421\n",
      "5         hhours    1.537536   0.650391\n",
      "1            age    1.426299   0.701115\n",
      "8           wage    1.355566   0.737699\n",
      "2           educ    1.340540   0.745968\n",
      "7         kidsl6    1.292953   0.773423\n",
      "3          exper    1.291079   0.774546\n",
      "10  unemployment    1.052969   0.949696\n"
     ]
    }
   ],
   "source": [
    "print(vif_tol_data.sort_values(by=\"VIF\", ascending=False))\n"
   ]
  },
  {
   "cell_type": "markdown",
   "metadata": {},
   "source": [
    "## Interpretation:\n",
    "\n",
    "VIF and Tolerance: Tolerance values indicate that multicollinearity is generally not a major concern, though const has a very low tolerance, suggesting high variance for the intercept term."
   ]
  },
  {
   "cell_type": "markdown",
   "metadata": {},
   "source": [
    "# Table 4.7"
   ]
  },
  {
   "cell_type": "code",
   "execution_count": 287,
   "metadata": {},
   "outputs": [],
   "source": [
    "cols = ['age', 'educ', 'exper', 'faminc', 'fathereduc', 'hage', 'heduc', 'hhours', 'hwage', 'kidsl6', 'kids618', 'wage', 'mothereduc', 'mtr', 'unemployment']\n",
    "\n",
    "x_t4_7 = table4_0[cols]"
   ]
  },
  {
   "cell_type": "code",
   "execution_count": 288,
   "metadata": {},
   "outputs": [],
   "source": [
    "scaler= StandardScaler()\n",
    "x_t4_7_scaler = scaler.fit_transform(x_t4_7)"
   ]
  },
  {
   "cell_type": "code",
   "execution_count": 320,
   "metadata": {},
   "outputs": [],
   "source": [
    "pca = PCA()\n",
    "pca.fit(x_t4_7)\n",
    "\n",
    "eigenvalues = pca.explained_variance_\n",
    "\n",
    "proportion_variance = pca.explained_variance_ratio_\n",
    "\n",
    "cumulative_variance = np.cumsum(proportion_variance)\n",
    "\n",
    "\n"
   ]
  },
  {
   "cell_type": "code",
   "execution_count": 321,
   "metadata": {},
   "outputs": [],
   "source": [
    "eigen_table = pd.DataFrame({\n",
    "    'Eigenvalue': eigenvalues,\n",
    "    'Proportion': proportion_variance,\n",
    "    'Cumulative': cumulative_variance\n",
    "})"
   ]
  },
  {
   "cell_type": "code",
   "execution_count": 317,
   "metadata": {},
   "outputs": [
    {
     "name": "stdout",
     "output_type": "stream",
     "text": [
      "Eigenanalysis Table:\n"
     ]
    },
    {
     "data": {
      "text/html": [
       "<div>\n",
       "<style scoped>\n",
       "    .dataframe tbody tr th:only-of-type {\n",
       "        vertical-align: middle;\n",
       "    }\n",
       "\n",
       "    .dataframe tbody tr th {\n",
       "        vertical-align: top;\n",
       "    }\n",
       "\n",
       "    .dataframe thead th {\n",
       "        text-align: right;\n",
       "    }\n",
       "</style>\n",
       "<table border=\"1\" class=\"dataframe\">\n",
       "  <thead>\n",
       "    <tr style=\"text-align: right;\">\n",
       "      <th></th>\n",
       "      <th>1</th>\n",
       "      <th>2</th>\n",
       "      <th>3</th>\n",
       "      <th>4</th>\n",
       "      <th>5</th>\n",
       "      <th>6</th>\n",
       "      <th>7</th>\n",
       "      <th>8</th>\n",
       "      <th>9</th>\n",
       "      <th>10</th>\n",
       "      <th>11</th>\n",
       "      <th>12</th>\n",
       "      <th>13</th>\n",
       "      <th>14</th>\n",
       "      <th>15</th>\n",
       "    </tr>\n",
       "  </thead>\n",
       "  <tbody>\n",
       "    <tr>\n",
       "      <th>Eigenvalue</th>\n",
       "      <td>1.486069e+08</td>\n",
       "      <td>348865.895482</td>\n",
       "      <td>1.342193e+02</td>\n",
       "      <td>5.533828e+01</td>\n",
       "      <td>1.968634e+01</td>\n",
       "      <td>1.030769e+01</td>\n",
       "      <td>9.020308e+00</td>\n",
       "      <td>7.733334e+00</td>\n",
       "      <td>6.848864e+00</td>\n",
       "      <td>5.015743e+00</td>\n",
       "      <td>4.532927e+00</td>\n",
       "      <td>2.092288e+00</td>\n",
       "      <td>1.377224e+00</td>\n",
       "      <td>2.061788e-01</td>\n",
       "      <td>1.119083e-03</td>\n",
       "    </tr>\n",
       "    <tr>\n",
       "      <th>Proportion</th>\n",
       "      <td>9.976562e-01</td>\n",
       "      <td>0.002342</td>\n",
       "      <td>9.010670e-07</td>\n",
       "      <td>3.715076e-07</td>\n",
       "      <td>1.321621e-07</td>\n",
       "      <td>6.919957e-08</td>\n",
       "      <td>6.055686e-08</td>\n",
       "      <td>5.191690e-08</td>\n",
       "      <td>4.597911e-08</td>\n",
       "      <td>3.367265e-08</td>\n",
       "      <td>3.043131e-08</td>\n",
       "      <td>1.404635e-08</td>\n",
       "      <td>9.245847e-09</td>\n",
       "      <td>1.384159e-09</td>\n",
       "      <td>7.512844e-12</td>\n",
       "    </tr>\n",
       "    <tr>\n",
       "      <th>Cumulative</th>\n",
       "      <td>9.976562e-01</td>\n",
       "      <td>0.999998</td>\n",
       "      <td>9.999992e-01</td>\n",
       "      <td>9.999996e-01</td>\n",
       "      <td>9.999997e-01</td>\n",
       "      <td>9.999998e-01</td>\n",
       "      <td>9.999998e-01</td>\n",
       "      <td>9.999999e-01</td>\n",
       "      <td>9.999999e-01</td>\n",
       "      <td>9.999999e-01</td>\n",
       "      <td>1.000000e+00</td>\n",
       "      <td>1.000000e+00</td>\n",
       "      <td>1.000000e+00</td>\n",
       "      <td>1.000000e+00</td>\n",
       "      <td>1.000000e+00</td>\n",
       "    </tr>\n",
       "  </tbody>\n",
       "</table>\n",
       "</div>"
      ],
      "text/plain": [
       "                      1              2             3             4   \\\n",
       "Eigenvalue  1.486069e+08  348865.895482  1.342193e+02  5.533828e+01   \n",
       "Proportion  9.976562e-01       0.002342  9.010670e-07  3.715076e-07   \n",
       "Cumulative  9.976562e-01       0.999998  9.999992e-01  9.999996e-01   \n",
       "\n",
       "                      5             6             7             8   \\\n",
       "Eigenvalue  1.968634e+01  1.030769e+01  9.020308e+00  7.733334e+00   \n",
       "Proportion  1.321621e-07  6.919957e-08  6.055686e-08  5.191690e-08   \n",
       "Cumulative  9.999997e-01  9.999998e-01  9.999998e-01  9.999999e-01   \n",
       "\n",
       "                      9             10            11            12  \\\n",
       "Eigenvalue  6.848864e+00  5.015743e+00  4.532927e+00  2.092288e+00   \n",
       "Proportion  4.597911e-08  3.367265e-08  3.043131e-08  1.404635e-08   \n",
       "Cumulative  9.999999e-01  9.999999e-01  1.000000e+00  1.000000e+00   \n",
       "\n",
       "                      13            14            15  \n",
       "Eigenvalue  1.377224e+00  2.061788e-01  1.119083e-03  \n",
       "Proportion  9.245847e-09  1.384159e-09  7.512844e-12  \n",
       "Cumulative  1.000000e+00  1.000000e+00  1.000000e+00  "
      ]
     },
     "execution_count": 317,
     "metadata": {},
     "output_type": "execute_result"
    }
   ],
   "source": [
    "print(\"Eigenanalysis Table:\")\n",
    "eigen_table = eigen_table.T\n",
    "eigen_table.columns = range(1, 16)\n",
    "eigen_table\n",
    "\n"
   ]
  },
  {
   "cell_type": "code",
   "execution_count": 322,
   "metadata": {},
   "outputs": [],
   "source": [
    "pc = pca.components_.T \n",
    "pc_table = pd.DataFrame(pc, columns=[f'PC{i+1}' for i in range(pc.shape[1])], index=columns)"
   ]
  },
  {
   "cell_type": "code",
   "execution_count": 323,
   "metadata": {},
   "outputs": [
    {
     "name": "stdout",
     "output_type": "stream",
     "text": [
      "\n",
      "Principal component table:\n"
     ]
    },
    {
     "data": {
      "text/html": [
       "<div>\n",
       "<style scoped>\n",
       "    .dataframe tbody tr th:only-of-type {\n",
       "        vertical-align: middle;\n",
       "    }\n",
       "\n",
       "    .dataframe tbody tr th {\n",
       "        vertical-align: top;\n",
       "    }\n",
       "\n",
       "    .dataframe thead th {\n",
       "        text-align: right;\n",
       "    }\n",
       "</style>\n",
       "<table border=\"1\" class=\"dataframe\">\n",
       "  <thead>\n",
       "    <tr style=\"text-align: right;\">\n",
       "      <th></th>\n",
       "      <th>PC1</th>\n",
       "      <th>PC2</th>\n",
       "      <th>PC3</th>\n",
       "      <th>PC4</th>\n",
       "      <th>PC5</th>\n",
       "      <th>PC6</th>\n",
       "    </tr>\n",
       "  </thead>\n",
       "  <tbody>\n",
       "    <tr>\n",
       "      <th>age</th>\n",
       "      <td>0.000035</td>\n",
       "      <td>-0.001256</td>\n",
       "      <td>0.658258</td>\n",
       "      <td>-0.214096</td>\n",
       "      <td>0.074025</td>\n",
       "      <td>0.155937</td>\n",
       "    </tr>\n",
       "    <tr>\n",
       "      <th>educ</th>\n",
       "      <td>0.000068</td>\n",
       "      <td>0.000127</td>\n",
       "      <td>-0.026235</td>\n",
       "      <td>0.063759</td>\n",
       "      <td>0.287495</td>\n",
       "      <td>-0.018112</td>\n",
       "    </tr>\n",
       "    <tr>\n",
       "      <th>exper</th>\n",
       "      <td>-0.000018</td>\n",
       "      <td>-0.001320</td>\n",
       "      <td>0.366862</td>\n",
       "      <td>0.912673</td>\n",
       "      <td>-0.033536</td>\n",
       "      <td>0.102898</td>\n",
       "    </tr>\n",
       "    <tr>\n",
       "      <th>faminc</th>\n",
       "      <td>0.999980</td>\n",
       "      <td>-0.006274</td>\n",
       "      <td>-0.000027</td>\n",
       "      <td>0.000024</td>\n",
       "      <td>-0.000151</td>\n",
       "      <td>-0.000092</td>\n",
       "    </tr>\n",
       "    <tr>\n",
       "      <th>fathereduc</th>\n",
       "      <td>0.000062</td>\n",
       "      <td>0.000142</td>\n",
       "      <td>-0.060205</td>\n",
       "      <td>0.023773</td>\n",
       "      <td>0.663941</td>\n",
       "      <td>-0.056673</td>\n",
       "    </tr>\n",
       "    <tr>\n",
       "      <th>hage</th>\n",
       "      <td>0.000027</td>\n",
       "      <td>-0.001384</td>\n",
       "      <td>0.644453</td>\n",
       "      <td>-0.291264</td>\n",
       "      <td>0.113465</td>\n",
       "      <td>-0.206748</td>\n",
       "    </tr>\n",
       "    <tr>\n",
       "      <th>heduc</th>\n",
       "      <td>0.000093</td>\n",
       "      <td>0.000307</td>\n",
       "      <td>-0.053511</td>\n",
       "      <td>0.047814</td>\n",
       "      <td>0.325360</td>\n",
       "      <td>0.210591</td>\n",
       "    </tr>\n",
       "    <tr>\n",
       "      <th>hhours</th>\n",
       "      <td>0.006275</td>\n",
       "      <td>0.999974</td>\n",
       "      <td>0.002203</td>\n",
       "      <td>0.000416</td>\n",
       "      <td>0.000195</td>\n",
       "      <td>0.001208</td>\n",
       "    </tr>\n",
       "    <tr>\n",
       "      <th>hwage</th>\n",
       "      <td>0.000252</td>\n",
       "      <td>-0.002377</td>\n",
       "      <td>-0.027473</td>\n",
       "      <td>-0.061850</td>\n",
       "      <td>0.085634</td>\n",
       "      <td>0.405761</td>\n",
       "    </tr>\n",
       "    <tr>\n",
       "      <th>kidsl6</th>\n",
       "      <td>-0.000001</td>\n",
       "      <td>0.000025</td>\n",
       "      <td>-0.020451</td>\n",
       "      <td>0.003304</td>\n",
       "      <td>0.001511</td>\n",
       "      <td>0.019569</td>\n",
       "    </tr>\n",
       "    <tr>\n",
       "      <th>kids618</th>\n",
       "      <td>-0.000002</td>\n",
       "      <td>0.000230</td>\n",
       "      <td>-0.045980</td>\n",
       "      <td>-0.017723</td>\n",
       "      <td>-0.034618</td>\n",
       "      <td>0.001827</td>\n",
       "    </tr>\n",
       "    <tr>\n",
       "      <th>wage</th>\n",
       "      <td>0.000061</td>\n",
       "      <td>-0.000496</td>\n",
       "      <td>0.003959</td>\n",
       "      <td>0.152051</td>\n",
       "      <td>0.075544</td>\n",
       "      <td>-0.580471</td>\n",
       "    </tr>\n",
       "    <tr>\n",
       "      <th>mothereduc</th>\n",
       "      <td>0.000044</td>\n",
       "      <td>0.000189</td>\n",
       "      <td>-0.078693</td>\n",
       "      <td>0.043027</td>\n",
       "      <td>0.573172</td>\n",
       "      <td>-0.098490</td>\n",
       "    </tr>\n",
       "    <tr>\n",
       "      <th>mtr</th>\n",
       "      <td>-0.000006</td>\n",
       "      <td>-0.000003</td>\n",
       "      <td>-0.000166</td>\n",
       "      <td>-0.000651</td>\n",
       "      <td>-0.001874</td>\n",
       "      <td>-0.001112</td>\n",
       "    </tr>\n",
       "    <tr>\n",
       "      <th>unemployment</th>\n",
       "      <td>0.000016</td>\n",
       "      <td>-0.000867</td>\n",
       "      <td>0.010628</td>\n",
       "      <td>-0.017848</td>\n",
       "      <td>0.091764</td>\n",
       "      <td>0.602316</td>\n",
       "    </tr>\n",
       "  </tbody>\n",
       "</table>\n",
       "</div>"
      ],
      "text/plain": [
       "                   PC1       PC2       PC3       PC4       PC5       PC6\n",
       "age           0.000035 -0.001256  0.658258 -0.214096  0.074025  0.155937\n",
       "educ          0.000068  0.000127 -0.026235  0.063759  0.287495 -0.018112\n",
       "exper        -0.000018 -0.001320  0.366862  0.912673 -0.033536  0.102898\n",
       "faminc        0.999980 -0.006274 -0.000027  0.000024 -0.000151 -0.000092\n",
       "fathereduc    0.000062  0.000142 -0.060205  0.023773  0.663941 -0.056673\n",
       "hage          0.000027 -0.001384  0.644453 -0.291264  0.113465 -0.206748\n",
       "heduc         0.000093  0.000307 -0.053511  0.047814  0.325360  0.210591\n",
       "hhours        0.006275  0.999974  0.002203  0.000416  0.000195  0.001208\n",
       "hwage         0.000252 -0.002377 -0.027473 -0.061850  0.085634  0.405761\n",
       "kidsl6       -0.000001  0.000025 -0.020451  0.003304  0.001511  0.019569\n",
       "kids618      -0.000002  0.000230 -0.045980 -0.017723 -0.034618  0.001827\n",
       "wage          0.000061 -0.000496  0.003959  0.152051  0.075544 -0.580471\n",
       "mothereduc    0.000044  0.000189 -0.078693  0.043027  0.573172 -0.098490\n",
       "mtr          -0.000006 -0.000003 -0.000166 -0.000651 -0.001874 -0.001112\n",
       "unemployment  0.000016 -0.000867  0.010628 -0.017848  0.091764  0.602316"
      ]
     },
     "execution_count": 323,
     "metadata": {},
     "output_type": "execute_result"
    }
   ],
   "source": [
    "print(\"\\nPrincipal component table:\")\n",
    "pc_table.iloc[:,0:6]"
   ]
  },
  {
   "cell_type": "markdown",
   "metadata": {},
   "source": [
    "## Interpretation:\n",
    "\n",
    "\n",
    "The principal component table shows the contribution of each variable to the principal components.\n",
    "\n",
    "The first principal component (PC1) is dominated by faminc (family income), with nearly all variance explained by it (99.77%).\n",
    "\n",
    "age, exper, and other factors also contribute to subsequent components, but to a lesser extent.\n",
    "\n",
    "The eigenvalues and proportions indicate that the majority of the variance is explained by the first few components."
   ]
  },
  {
   "cell_type": "code",
   "execution_count": null,
   "metadata": {},
   "outputs": [],
   "source": []
  }
 ],
 "metadata": {
  "kernelspec": {
   "display_name": "Python 3 (ipykernel)",
   "language": "python",
   "name": "python3"
  },
  "language_info": {
   "codemirror_mode": {
    "name": "ipython",
    "version": 3
   },
   "file_extension": ".py",
   "mimetype": "text/x-python",
   "name": "python",
   "nbconvert_exporter": "python",
   "pygments_lexer": "ipython3",
   "version": "3.12.4"
  }
 },
 "nbformat": 4,
 "nbformat_minor": 4
}
