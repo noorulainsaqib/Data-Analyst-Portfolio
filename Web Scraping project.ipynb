{
 "cells": [
  {
   "cell_type": "markdown",
   "id": "6d97cc13",
   "metadata": {},
   "source": [
    "# GETTING THE LINKS OF REPORTS"
   ]
  },
  {
   "cell_type": "code",
   "execution_count": 18,
   "id": "06fb300f",
   "metadata": {},
   "outputs": [],
   "source": [
    "import requests\n",
    "from bs4 import BeautifulSoup as bs\n",
    "import datetime\n",
    "from dateutil.rrule import rrule, DAILY\n",
    "import pandas as pd"
   ]
  },
  {
   "cell_type": "code",
   "execution_count": 14,
   "id": "e24982bf",
   "metadata": {},
   "outputs": [],
   "source": [
    "# Initializing empty lists to store links and published dates\n",
    "link = []\n",
    "published_dates = []\n",
    "\n",
    "# Setting start and end dates for the date range\n",
    "date = datetime.date(2023, 1, 1)\n",
    "end = datetime.date(2023, 12, 31)\n",
    "\n",
    "# Looping through each day in the date range\n",
    "for current_date in rrule(DAILY, dtstart=date, until=end):\n",
    "    # Setting the URL and POST parameters for the request\n",
    "    url = 'https://www.thenews.com.pk/todaypaper-archive'\n",
    "    post_params = {'filter_archive_date': current_date.strftime('%Y-%m-%d'), 'submit_archive': 'Submit'}\n",
    "\n",
    "    retries = 3  # Setting the maximum number of retries for the request\n",
    "    for attempt in range(retries): # Looping through the retries\n",
    "        try:\n",
    "            response = requests.post(url, data=post_params)\n",
    "            response.raise_for_status()  \n",
    "            soup = bs(response.text, 'html.parser')\n",
    "            data_list = soup.find_all(\"div\", {\"class\": \"print-top-story\"})\n",
    "            if len(data_list) > 4: # If there are more than 4 elements, extract the links and published dates\n",
    "                data = data_list[4]\n",
    "                for data1 in data.find_all(\"a\", {\"class\": \"fc-item__link open-section\"}):\n",
    "                    links = data1['href']\n",
    "                    if links not in link:\n",
    "                        published_dates.append(current_date)\n",
    "                        link.append(links)\n",
    "            else:\n",
    "                published_dates.append(\"\")\n",
    "                link.append(\"\")\n",
    "            break  \n",
    "        except (requests.RequestException, bs4.FeatureNotFound, bs4.ParserError, bs4.SoupStrainer) as e: \n",
    "            print(f\"Attempt {attempt+1} failed:\", e) # Catching any exceptions that occur during the request or parsing\n",
    "            if attempt == retries - 1:\n",
    "                print(\"Max retries exceeded.\")\n",
    "                break\n",
    "\n",
    "df = pd.DataFrame({'links': link, 'dates': published_dates})\n",
    "with pd.ExcelWriter('Project-The News.xlsx') as writer: # Writing the DataFrame to an Excel file\n",
    "    df.to_excel(writer, sheet_name='news')"
   ]
  },
  {
   "cell_type": "markdown",
   "id": "92d4aeb3",
   "metadata": {},
   "source": [
    "# GETTING REPORTS USING THE LINKS"
   ]
  },
  {
   "cell_type": "code",
   "execution_count": 22,
   "id": "ffda32be",
   "metadata": {},
   "outputs": [],
   "source": [
    "import pandas as pd\n",
    "from bs4 import BeautifulSoup\n",
    "import requests\n",
    "from requests.adapters import HTTPAdapter\n",
    "from requests.packages.urllib3.util.retry import Retry"
   ]
  },
  {
   "cell_type": "code",
   "execution_count": 21,
   "id": "edb45383",
   "metadata": {},
   "outputs": [],
   "source": [
    "# Creating Function to extract report text from a given URL\n",
    "def extract_report_text(url):\n",
    "    if pd.isna(url):  # Checking if the URL is NaN\n",
    "        return ''\n",
    "    \n",
    "    retries = Retry(total=3, backoff_factor=1, status_forcelist=[500, 502, 503, 504])\n",
    "    session = requests.Session()\n",
    "    session.mount('https://', HTTPAdapter(max_retries=retries))\n",
    "    \n",
    "    try:\n",
    "        response = session.get(url)\n",
    "        response.raise_for_status()\n",
    "        soup = BeautifulSoup(response.content, 'html.parser')\n",
    "        report_element = soup.select_one('.story-detail')\n",
    "        if report_element:\n",
    "            return report_element.get_text(strip=True)\n",
    "        else:\n",
    "            return ''\n",
    "    except (requests.RequestException, ValueError, AttributeError, IndexError, TypeError) as e:\n",
    "        print(f\"Error while extracting report text from {url}: {e}\")\n",
    "        return ''\n",
    "\n",
    "# Reading the URLs from Excel\n",
    "links_df = pd.read_excel('Project-The News.xlsx', usecols=['links'])\n",
    "\n",
    "# Filtering out NaN values in the 'links' column\n",
    "links_df = links_df.dropna()\n",
    "\n",
    "# Extracting report text for each URL\n",
    "reports = []\n",
    "for url in links_df['links']:\n",
    "    report_text = extract_report_text(url)\n",
    "    reports.append(report_text)\n",
    "\n",
    "# Creating DataFrame and saving to Excel\n",
    "df = pd.DataFrame({'reports': reports})\n",
    "with pd.ExcelWriter('Reports.xlsx') as writer:\n",
    "    df.to_excel(writer, sheet_name='news')"
   ]
  }
 ],
 "metadata": {
  "kernelspec": {
   "display_name": "Python 3 (ipykernel)",
   "language": "python",
   "name": "python3"
  },
  "language_info": {
   "codemirror_mode": {
    "name": "ipython",
    "version": 3
   },
   "file_extension": ".py",
   "mimetype": "text/x-python",
   "name": "python",
   "nbconvert_exporter": "python",
   "pygments_lexer": "ipython3",
   "version": "3.11.5"
  }
 },
 "nbformat": 4,
 "nbformat_minor": 5
}
